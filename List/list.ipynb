{
 "cells": [
  {
   "cell_type": "markdown",
   "id": "e44ed0f9-3277-46c7-8a61-c6487a597ac1",
   "metadata": {},
   "source": [
    "# Python List\n",
    "\n",
    "    - Lists are ordered\n",
    "    - List can contain any arbitrary objects\n",
    "    - List elements can be accessed by index\n",
    "    - List can be nested to arbitrary depth\n",
    "    - Lists are mutable\n",
    "    - Lists are dynamic"
   ]
  },
  {
   "cell_type": "markdown",
   "id": "976d8131-cf16-4030-9f69-a3bb6ed5d450",
   "metadata": {},
   "source": [
    "## Indexing"
   ]
  },
  {
   "cell_type": "code",
   "execution_count": 1,
   "id": "3f3f6ed1-dce1-487f-9073-4b72fce9fffa",
   "metadata": {},
   "outputs": [
    {
     "data": {
      "text/plain": [
       "['naim', 101, 10.11, True]"
      ]
     },
     "execution_count": 1,
     "metadata": {},
     "output_type": "execute_result"
    }
   ],
   "source": [
    "# Creating List\n",
    "\n",
    "lst = ['naim', 101, 10.11, True]\n",
    "lst"
   ]
  },
  {
   "cell_type": "code",
   "execution_count": 4,
   "id": "fbb5e64b-d1d7-48c8-a8b9-4168e87db8e0",
   "metadata": {},
   "outputs": [
    {
     "name": "stdout",
     "output_type": "stream",
     "text": [
      "Positive and negative indexing of the first element: \n",
      " - positive index[0]:  naim\n",
      "Positive and negative indexing of the first element: \n",
      " - negative index[-1]:  True\n",
      "Positive and negative indexing of the first element: \n",
      " - positive index[1]:  101\n",
      "Positive and negative indexing of the first element: \n",
      " - negative index[-2]:  10.11\n"
     ]
    }
   ],
   "source": [
    "print('Positive and negative indexing of the first element: \\n - positive index[0]: ', lst[0])\n",
    "print('Positive and negative indexing of the first element: \\n - negative index[-1]: ', lst[-1])\n",
    "print('Positive and negative indexing of the first element: \\n - positive index[1]: ', lst[1])\n",
    "print('Positive and negative indexing of the first element: \\n - negative index[-2]: ', lst[-2])"
   ]
  },
  {
   "cell_type": "markdown",
   "id": "c718703b-abc2-40a6-9ed0-9d1c8878a62f",
   "metadata": {
    "tags": []
   },
   "source": [
    "## What can contennt a list? \n",
    "\n",
    "    - Strings\n",
    "    - Integer\n",
    "    - Floats\n",
    "    - Boolean\n",
    "    - another list\n",
    "    - touple\n",
    "    - other data structure"
   ]
  },
  {
   "cell_type": "code",
   "execution_count": 5,
   "id": "1e14cf0c-e765-4105-aa2c-b9d6b2366d99",
   "metadata": {},
   "outputs": [
    {
     "data": {
      "text/plain": [
       "['naim', 'python', 3.1416, [1, 2, 3, 4, 5, 6], 10.11]"
      ]
     },
     "execution_count": 5,
     "metadata": {},
     "output_type": "execute_result"
    }
   ],
   "source": [
    "lst = ['naim', 'python', 3.1416, [1, 2, 3, 4, 5, 6], 10.11]\n",
    "lst"
   ]
  },
  {
   "cell_type": "markdown",
   "id": "440ab0e1-de12-4a7d-9a8f-32b0376a0ad3",
   "metadata": {},
   "source": [
    "## List operation"
   ]
  },
  {
   "cell_type": "code",
   "execution_count": 8,
   "id": "d5801b7b-8dcf-4eab-9801-177ea5e8f4bb",
   "metadata": {},
   "outputs": [
    {
     "name": "stdout",
     "output_type": "stream",
     "text": [
      "['naim', 'python', 3.1416, [1, 2, 3, 4, 5, 6], 10.11]\n",
      "length of the list :  5\n"
     ]
    }
   ],
   "source": [
    "# take a list\n",
    "\n",
    "print(lst)\n",
    "\n",
    "# length of the list\n",
    "print('length of the list : ', len(lst))"
   ]
  },
  {
   "cell_type": "markdown",
   "id": "7521893a-3432-434c-b512-675e8d54d60a",
   "metadata": {},
   "source": [
    "## Slicing"
   ]
  },
  {
   "cell_type": "code",
   "execution_count": 14,
   "id": "541c2da8-9617-43a1-9e88-a6eef8e34d1d",
   "metadata": {},
   "outputs": [
    {
     "name": "stdout",
     "output_type": "stream",
     "text": [
      "['naim', 'python', 3.1416]\n",
      "[3.1416, [1, 2, 3, 4, 5, 6], 10.11]\n"
     ]
    }
   ],
   "source": [
    "# Slicing of a list\n",
    "\n",
    "print(lst[0:3])\n",
    "print(lst[2:5])"
   ]
  },
  {
   "cell_type": "markdown",
   "id": "d4e2c272-9a4f-4c1e-9159-56735e3ebf5b",
   "metadata": {},
   "source": [
    "### Extending the list\n",
    "\n",
    "use extend method extend() to extend the list to add a new item to the list."
   ]
  },
  {
   "cell_type": "code",
   "execution_count": 22,
   "id": "a4d6c485-91bf-45da-a2df-abb1f1cff3ca",
   "metadata": {},
   "outputs": [
    {
     "name": "stdout",
     "output_type": "stream",
     "text": [
      "before extending :  ['naim', 'python', 3.1416, [1, 2, 3, 4, 5, 6], 10.11, 'main', 'ru', 100, 'main', 'ru', 100, ['wtf'], 'main', 'ru', 100, ['wtf'], 'main', 'ru', 100, 'wtf', 'main', 'ru', 100, 'wtf']\n",
      "after extending :  ['naim', 'python', 3.1416, [1, 2, 3, 4, 5, 6], 10.11, 'main', 'ru', 100, 'main', 'ru', 100, ['wtf'], 'main', 'ru', 100, ['wtf'], 'main', 'ru', 100, 'wtf', 'main', 'ru', 100, 'wtf', 'main', 'ru', 100]\n",
      "after append :  ['naim', 'python', 3.1416, [1, 2, 3, 4, 5, 6], 10.11, 'main', 'ru', 100, 'main', 'ru', 100, ['wtf'], 'main', 'ru', 100, ['wtf'], 'main', 'ru', 100, 'wtf', 'main', 'ru', 100, 'wtf', 'main', 'ru', 100, 'wtf']\n",
      "After list append :  ['naim', 'python', 3.1416, [1, 2, 3, 4, 5, 6], 10.11, 'main', 'ru', 100, 'main', 'ru', 100, ['wtf'], 'main', 'ru', 100, ['wtf'], 'main', 'ru', 100, 'wtf', 'main', 'ru', 100, 'wtf', 'main', 'ru', 100, 'wtf', ['naim', 'main', 'iman', 'nmai']]\n"
     ]
    }
   ],
   "source": [
    "# taking list lst\n",
    "\n",
    "print('before extending : ', lst)\n",
    "\n",
    "lst.extend(['main', 'ru', 100])\n",
    "\n",
    "print('after extending : ', lst)\n",
    "\n",
    "# append() method used for add something at last position\n",
    "\n",
    "lst.append('wtf')\n",
    "print('after append : ', lst)\n",
    "\n",
    "# append a list at last\n",
    "\n",
    "lst.append(['naim', 'main', 'iman', 'nmai'])\n",
    "print('After list append : ', lst)"
   ]
  },
  {
   "cell_type": "code",
   "execution_count": 24,
   "id": "1b52195d-49c2-4e9b-9d63-779ceaf5c47f",
   "metadata": {},
   "outputs": [
    {
     "name": "stdout",
     "output_type": "stream",
     "text": [
      "length of the list :  29\n",
      "count naim :  1\n"
     ]
    }
   ],
   "source": [
    "# Length of the list \n",
    "print('length of the list : ', len(lst))\n",
    "print('count naim : ', lst.count('naim'))"
   ]
  },
  {
   "cell_type": "code",
   "execution_count": 34,
   "id": "51dec8e8-a097-4d56-8e35-1eabbf7145b3",
   "metadata": {},
   "outputs": [
    {
     "name": "stdout",
     "output_type": "stream",
     "text": [
      "[1, 2, 3, 4, 5, 6, 7, 8, 9, 10]\n",
      "1\n",
      "maximum number :  10\n",
      "minimum number :  1\n",
      "sum of the list :  55\n",
      "1\n"
     ]
    }
   ],
   "source": [
    "numList = [1, 2, 3, 4, 5, 6, 7, 8, 9, 10]\n",
    "\n",
    "print(numList)\n",
    "print(numList.count(1))\n",
    "print('maximum number : ', max(numList))\n",
    "print('minimum number : ', min(numList))\n",
    "\n",
    "# print sum of the lsit\n",
    "print('sum of the list : ', sum(numList))\n",
    "\n",
    "# insert methos\n",
    "numList.insert(11, 11)\n",
    "numList\n",
    "print(numList.index(2))"
   ]
  },
  {
   "cell_type": "markdown",
   "id": "11e859e5-6850-4035-b900-02410df7fb02",
   "metadata": {},
   "source": [
    "### Deleting element's from a list using del() function"
   ]
  },
  {
   "cell_type": "code",
   "execution_count": 56,
   "id": "c86cc8bf-3f81-4a59-a2fe-688cfb8e1e6b",
   "metadata": {},
   "outputs": [
    {
     "name": "stdout",
     "output_type": "stream",
     "text": [
      "Before changing :  []\n",
      "After changing :  []\n",
      "After changing :  []\n"
     ]
    }
   ],
   "source": [
    "tempList = numList\n",
    "\n",
    "print('Before changing : ', tempList)\n",
    "\n",
    "# del(tempList[0]) # at index 10 num 11 deleted\n",
    "print('After changing : ', tempList)\n",
    "numList\n",
    "# del(numList[-1])\n",
    "print('After changing : ', numList)"
   ]
  },
  {
   "cell_type": "markdown",
   "id": "4638e7b0-923b-4dce-9c73-417429472178",
   "metadata": {},
   "source": [
    "## Conversion of a string into a list usign split function"
   ]
  },
  {
   "cell_type": "code",
   "execution_count": 61,
   "id": "cf9ab56a-7d2d-43bc-82d3-2dc3bed17687",
   "metadata": {},
   "outputs": [
    {
     "name": "stdout",
     "output_type": "stream",
     "text": [
      "['university', 'of', 'Rajshahi', 'bangladesh']\n",
      "['p', 'y', 't', 'h', 'o', 'n']\n"
     ]
    }
   ],
   "source": [
    "msg = 'university of Rajshahi bangladesh'\n",
    "lst = msg.split()\n",
    "print(lst)\n",
    "\n",
    "# also use of split functioni\n",
    "\n",
    "txt = 'p,y,t,h,o,n'\n",
    "txt_lst = txt.split(',')\n",
    "print(txt_lst)"
   ]
  },
  {
   "cell_type": "code",
   "execution_count": 65,
   "id": "198a577b-b963-41a8-a731-4d8116479d82",
   "metadata": {},
   "outputs": [
    {
     "name": "stdout",
     "output_type": "stream",
     "text": [
      "[1, 2, 3, 4, 5, 6, 7, 8, 9, 10, 1, 2, 3, 4, 5, 6, 7, 8, 9, 10]\n",
      "1\n",
      "2\n",
      "3\n",
      "4\n",
      "5\n",
      "6\n",
      "7\n",
      "8\n",
      "9\n",
      "10\n"
     ]
    }
   ],
   "source": [
    "numList = [1, 2, 3, 4, 5, 6, 7, 8, 9, 10]\n",
    "\n",
    "print(numList*2)\n",
    "\n",
    "for i in numList:\n",
    "    print(i)"
   ]
  },
  {
   "cell_type": "code",
   "execution_count": 68,
   "id": "c499ebb6-e574-4e57-bfe0-0684520d3eed",
   "metadata": {},
   "outputs": [
    {
     "name": "stdout",
     "output_type": "stream",
     "text": [
      "[1, 2, 3, 4, 5, 6, 7, 8, 9, 10]\n",
      "[1, 2, 3, 4, 5, 6, 7, 8, 9, 10]\n",
      "[0, 2, 3, 4, 5, 6, 7, 8, 9, 10]\n",
      "[0, 2, 3, 4, 5, 6, 7, 8, 9, 10]\n"
     ]
    }
   ],
   "source": [
    "# Copy a slit to another list\n",
    "\n",
    "newList = numList\n",
    "\n",
    "print(numList)\n",
    "print(newList)\n",
    "\n",
    "# The element in the copied list also changes when the element inthe original list was changed\n",
    "\n",
    "newList[0] = 0\n",
    "print(newList) \n",
    "print(numList) # NumList also changed"
   ]
  },
  {
   "cell_type": "markdown",
   "id": "3ded02f5-9f26-443f-8930-7d470676f6cb",
   "metadata": {},
   "source": [
    "### Clone the list to another list"
   ]
  },
  {
   "cell_type": "code",
   "execution_count": 75,
   "id": "aff08c4e-0b27-4b3a-a822-fe3c26334140",
   "metadata": {},
   "outputs": [
    {
     "name": "stdout",
     "output_type": "stream",
     "text": [
      "[111, 2, 3, 4, 5, 6, 7, 8, 9, 10]\n",
      "[1, 2, 3, 4, 5, 6, 7, 8, 9, 10]\n"
     ]
    }
   ],
   "source": [
    "numList = [1, 2, 3, 4, 5, 6, 7, 8, 9, 10]\n",
    "\n",
    "# The cloned list is a new copy or clone of the original lis\n",
    "\n",
    "clone_list = numList[:]\n",
    "\n",
    "clone_list\n",
    "\n",
    "# let's change it's value\n",
    "\n",
    "clone_list[0] = 111\n",
    "print(clone_list)\n",
    "print(numList) # no change look up!"
   ]
  },
  {
   "cell_type": "markdown",
   "id": "13a96cfb-1199-4440-80d4-3f525f919ad5",
   "metadata": {},
   "source": [
    "## Concatenate the list\n"
   ]
  },
  {
   "cell_type": "code",
   "execution_count": 80,
   "id": "ca2b53b6-c72b-46e1-bac2-1081f82676cf",
   "metadata": {},
   "outputs": [
    {
     "name": "stdout",
     "output_type": "stream",
     "text": [
      "['a', 'b', 'c', 'd']\n",
      "[1, 2, 3, 4, 5, 6]\n",
      "After concatenate : \n",
      "['a', 'b', 'c', 'd', 1, 2, 3, 4, 5, 6]\n"
     ]
    }
   ],
   "source": [
    "# Let's create two list\n",
    "\n",
    "list_a = ['a', 'b', 'c', 'd']\n",
    "list_b = [1, 2, 3, 4, 5, 6]\n",
    "\n",
    "new_list = list_a + list_b\n",
    "print(list_a)\n",
    "print(list_b)\n",
    "print(\"After concatenate : \")\n",
    "print(new_list)"
   ]
  },
  {
   "cell_type": "markdown",
   "id": "43ff079b-66f2-4f4c-87c0-321b377dcd1c",
   "metadata": {},
   "source": [
    "# As different from the list, also find significant the following information\n",
    "\n",
    "## input() function\n",
    "    - input() function in python provides a user of a program supply inputs to the program at runtime"
   ]
  },
  {
   "cell_type": "code",
   "execution_count": 81,
   "id": "22b9638a-8ed9-43c7-a2dd-e3ebe8af3627",
   "metadata": {},
   "outputs": [
    {
     "name": "stdin",
     "output_type": "stream",
     "text": [
      "Enter a message :  this is a string from python\n"
     ]
    },
    {
     "name": "stdout",
     "output_type": "stream",
     "text": [
      "Entered message : \n",
      "<class 'str'>\n"
     ]
    }
   ],
   "source": [
    "# let's take a input\n",
    "\n",
    "txt = input(\"Enter a message : \")\n",
    "print('Entered message : ')\n",
    "print(type(txt))"
   ]
  },
  {
   "cell_type": "code",
   "execution_count": 82,
   "id": "247192c2-44fd-4107-807d-97ce1da19fc9",
   "metadata": {},
   "outputs": [
    {
     "name": "stdin",
     "output_type": "stream",
     "text": [
      "Enter an integer:  123456\n"
     ]
    },
    {
     "name": "stdout",
     "output_type": "stream",
     "text": [
      "The number is :  123456\n",
      "<class 'str'>\n"
     ]
    }
   ],
   "source": [
    "# altohough the function wants an integer, the type of the entered number is a string.\n",
    "number = input('Enter an integer: ')\n",
    "print('The number is : ', number)\n",
    "print(type(number))"
   ]
  },
  {
   "cell_type": "code",
   "execution_count": 83,
   "id": "5c7d8dcd-0d3e-43b3-bb94-46e95942703f",
   "metadata": {},
   "outputs": [
    {
     "name": "stdin",
     "output_type": "stream",
     "text": [
      "Enter an integer :  123\n"
     ]
    },
    {
     "name": "stdout",
     "output_type": "stream",
     "text": [
      "the number :  123\n",
      "<class 'int'>\n"
     ]
    }
   ],
   "source": [
    "# To get integer input use int() converter\n",
    "number = int(input('Enter an integer : '))\n",
    "print('the number : ', number)\n",
    "print(type(number))"
   ]
  },
  {
   "cell_type": "code",
   "execution_count": 84,
   "id": "aa357ee4-13b2-4a68-ba5c-23595eaeb663",
   "metadata": {},
   "outputs": [
    {
     "name": "stdin",
     "output_type": "stream",
     "text": [
      "Enter an integer :  1.25\n"
     ]
    },
    {
     "name": "stdout",
     "output_type": "stream",
     "text": [
      "the number :  1.25\n",
      "<class 'float'>\n"
     ]
    }
   ],
   "source": [
    "# To get float input use int() converter\n",
    "number = float(input('Enter an integer : '))\n",
    "print('the number : ', number)\n",
    "print(type(number))"
   ]
  },
  {
   "cell_type": "markdown",
   "id": "e469c6d5-acb6-443b-94c7-350ef46eac88",
   "metadata": {},
   "source": [
    "### eval() function\n",
    "```python\n",
    "expression = '8+7'\n",
    "total = eval(expression)\n",
    "print('Sum of the expression is', total)\n",
    "print(type(expression))\n",
    "print(type(total))\n",
    "\n",
    "```"
   ]
  },
  {
   "cell_type": "code",
   "execution_count": 86,
   "id": "f39dfd25-0428-437d-906b-af019f780a32",
   "metadata": {},
   "outputs": [
    {
     "name": "stdout",
     "output_type": "stream",
     "text": [
      "result :  30\n",
      "<class 'int'>\n"
     ]
    }
   ],
   "source": [
    "expr = '9*3+3'\n",
    "total = eval(expr)\n",
    "print('result : ', total)\n",
    "print(type(total))"
   ]
  },
  {
   "cell_type": "markdown",
   "id": "2ae4f8f2-7b90-4d82-843f-3a6733a137d4",
   "metadata": {},
   "source": [
    "### format() function\n",
    "    - This function helps to format the outut printed on the screen with good look and attractive.\n",
    "    "
   ]
  },
  {
   "cell_type": "code",
   "execution_count": 88,
   "id": "7b32a204-e000-493b-b343-c2f60559fd02",
   "metadata": {},
   "outputs": [
    {
     "name": "stdin",
     "output_type": "stream",
     "text": [
      "enter a number :  122\n",
      "enter another number :  225\n"
     ]
    },
    {
     "name": "stdout",
     "output_type": "stream",
     "text": [
      "sum of 122 and 225 is : 347 \n"
     ]
    }
   ],
   "source": [
    "# let's code\n",
    "\n",
    "a = int(input('enter a number : '))\n",
    "b = int(input('enter another number : '))\n",
    "total = a+b\n",
    "\n",
    "print('sum of {} and {} is : {} '.format(a, b, total))"
   ]
  },
  {
   "cell_type": "code",
   "execution_count": 91,
   "id": "16a63a97-b329-453c-a88b-21f287fdc8bd",
   "metadata": {},
   "outputs": [
    {
     "name": "stdin",
     "output_type": "stream",
     "text": [
      "enter your first name :  zannatul\n",
      "enter your last name :  naim\n"
     ]
    },
    {
     "name": "stdout",
     "output_type": "stream",
     "text": [
      "your first name zannatul and last name naim and full name zannatul naim\n"
     ]
    }
   ],
   "source": [
    "firstName = input('enter your first name : ')\n",
    "lastName = input('enter your last name : ')\n",
    "\n",
    "print('your first name {} and last name {} and full name {}'.format(firstName, lastName, firstName+ ' ' +lastName))"
   ]
  },
  {
   "cell_type": "code",
   "execution_count": null,
   "id": "e3215aad-40ee-4ee2-9c6e-63f6beb94189",
   "metadata": {},
   "outputs": [],
   "source": []
  }
 ],
 "metadata": {
  "kernelspec": {
   "display_name": "Python 3 (ipykernel)",
   "language": "python",
   "name": "python3"
  },
  "language_info": {
   "codemirror_mode": {
    "name": "ipython",
    "version": 3
   },
   "file_extension": ".py",
   "mimetype": "text/x-python",
   "name": "python",
   "nbconvert_exporter": "python",
   "pygments_lexer": "ipython3",
   "version": "3.10.4"
  }
 },
 "nbformat": 4,
 "nbformat_minor": 5
}
