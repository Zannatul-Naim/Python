{
 "cells": [
  {
   "cell_type": "markdown",
   "id": "1d959254-f700-495e-a0b4-53ea8f1cb268",
   "metadata": {},
   "source": [
    "# Sets in Python\n",
    "\n",
    "- Set is one of 4 built-in data types in Python  used to store collections of data including list, tuple and dicitonary\n",
    "- Sets are unordered\n",
    "- Set elements are unique, duplicates are not allowed\n",
    "- set denoted by curly brackes {}"
   ]
  },
  {
   "cell_type": "code",
   "execution_count": 1,
   "id": "0bb5e0b1-0ba8-40cd-9b24-989354f979f0",
   "metadata": {},
   "outputs": [
    {
     "name": "stdout",
     "output_type": "stream",
     "text": [
      "<class 'dict'>\n"
     ]
    }
   ],
   "source": [
    "# The empty set of curly braces denotes the empty dictionary, not empty set\n",
    "\n",
    "x = {}\n",
    "\n",
    "print(type(x))"
   ]
  },
  {
   "cell_type": "code",
   "execution_count": 3,
   "id": "1f7c2fe0-d38b-40b9-b47b-12bf576e5608",
   "metadata": {},
   "outputs": [
    {
     "name": "stdout",
     "output_type": "stream",
     "text": [
      "<class 'set'>\n"
     ]
    }
   ],
   "source": [
    "# To take a set without elements, use set() function without any items\n",
    "\n",
    "y = set()\n",
    "print(type(y))"
   ]
  },
  {
   "cell_type": "code",
   "execution_count": 4,
   "id": "fb299a3f-a946-46da-9ef5-1122be45088b",
   "metadata": {},
   "outputs": [
    {
     "name": "stdout",
     "output_type": "stream",
     "text": [
      "{1, 3.22, 3, 6, 'naim'}\n"
     ]
    }
   ],
   "source": [
    "# let's code for set\n",
    "\n",
    "s = {'naim', 'naim', 3.22, 1, 3, 6}\n",
    "\n",
    "print(s)"
   ]
  },
  {
   "cell_type": "code",
   "execution_count": 5,
   "id": "aec48c74-2b75-4268-92a4-a55c2628bebb",
   "metadata": {},
   "outputs": [
    {
     "name": "stdout",
     "output_type": "stream",
     "text": [
      "[1, 2, 3, 4, 5, 6, 6, 7, 4, 3, 2, 1]\n",
      "{1, 2, 3, 4, 5, 6, 7}\n"
     ]
    }
   ],
   "source": [
    "# Converting list ot set\n",
    "\n",
    "# let's take a list\n",
    "lst = [1, 2, 3, 4, 5, 6, 6, 7 , 4, 3, 2, 1]\n",
    "\n",
    "s = set(lst)\n",
    "print(lst)\n",
    "print(s)"
   ]
  },
  {
   "cell_type": "code",
   "execution_count": 7,
   "id": "30027f69-d69a-4e25-bc62-2d55322e7ab1",
   "metadata": {},
   "outputs": [
    {
     "data": {
      "text/plain": [
       "{1.22, 2002, 2022, 32.3, False, True, 'main', 'naim'}"
      ]
     },
     "execution_count": 7,
     "metadata": {},
     "output_type": "execute_result"
    }
   ],
   "source": [
    "# Set operations\n",
    "\n",
    "s = set(['naim', 'main', True, False, 2022, 2002, 32.3, 1.22])\n",
    "\n",
    "s"
   ]
  },
  {
   "cell_type": "code",
   "execution_count": 9,
   "id": "05db7289-be24-4807-b648-3505af056cb1",
   "metadata": {},
   "outputs": [
    {
     "data": {
      "text/plain": [
       "{1.22, 2002, 2022, '3.14', 32.3, False, True, 'hello, python', 'main', 'naim'}"
      ]
     },
     "execution_count": 9,
     "metadata": {},
     "output_type": "execute_result"
    }
   ],
   "source": [
    "# Use of add() function\n",
    "\n",
    "s.add('hello, python')\n",
    "s"
   ]
  },
  {
   "cell_type": "code",
   "execution_count": 11,
   "id": "60a73a86-e9b1-4ac3-bb2f-a70322a8c06e",
   "metadata": {},
   "outputs": [
    {
     "data": {
      "text/plain": [
       "{1.22,\n",
       " 2002,\n",
       " 2022,\n",
       " 3,\n",
       " '3.14',\n",
       " 32.3,\n",
       " False,\n",
       " True,\n",
       " 'hello, python',\n",
       " 'main',\n",
       " 'naim'}"
      ]
     },
     "execution_count": 11,
     "metadata": {},
     "output_type": "execute_result"
    }
   ],
   "source": [
    "# use of update() function\n",
    "\n",
    "s.update({3})\n",
    "s"
   ]
  },
  {
   "cell_type": "code",
   "execution_count": 17,
   "id": "32bfa840-de7a-409a-98ad-50565559edca",
   "metadata": {},
   "outputs": [
    {
     "data": {
      "text/plain": [
       "{1.22, 2022, 3, '3.14', 32.3, False, True, 'main', 'naim'}"
      ]
     },
     "execution_count": 17,
     "metadata": {},
     "output_type": "execute_result"
    }
   ],
   "source": [
    "# use of remove() function\n",
    "\n",
    "s.remove(2002)\n",
    "s"
   ]
  },
  {
   "cell_type": "markdown",
   "id": "eb1bae3f-73fe-4f7f-bea3-818ad4fb9d08",
   "metadata": {},
   "source": [
    "# Logic Operation in sets"
   ]
  },
  {
   "cell_type": "code",
   "execution_count": 26,
   "id": "800289c1-241d-44a0-86ec-ee8a4819c7db",
   "metadata": {},
   "outputs": [
    {
     "name": "stdout",
     "output_type": "stream",
     "text": [
      "{3, 4, 5}\n",
      "{3, 4, 5}\n",
      "{1, 2}\n",
      "False\n",
      "False\n",
      "False\n",
      "{1, 2, 3, 4, 5, 6}\n"
     ]
    }
   ],
   "source": [
    "set1 = {1, 2, 3, 4, 5}\n",
    "set2 = {3, 4, 5, 6}\n",
    "\n",
    "# intersection\n",
    "\n",
    "inter_set = set1&set2\n",
    "print(inter_set)\n",
    "print(set1.intersection(set2))\n",
    "\n",
    "# difference() function\n",
    "print(set1.difference(set2))\n",
    "\n",
    "# Set comparision\n",
    "print(set1 > set2)\n",
    "print(set1 < set2)\n",
    "print(set1 == set2)\n",
    "\n",
    "# find union()\n",
    "print(set1.union(set2))"
   ]
  },
  {
   "cell_type": "code",
   "execution_count": 30,
   "id": "5b1f0713-e7df-4583-8169-aa8817b05c52",
   "metadata": {},
   "outputs": [
    {
     "name": "stdout",
     "output_type": "stream",
     "text": [
      "True\n",
      "True\n",
      "False\n",
      "True\n",
      "True\n",
      "False\n"
     ]
    }
   ],
   "source": [
    "u = {1, 2, 3, 4, 5, 6, 7, 8, 9, 10}\n",
    "s1 = {1, 2, 3, 4, 5}\n",
    "s2 = {3, 4, 5, 6}\n",
    "s3 = {10, 4, 55, 9}\n",
    "\n",
    "# check issuperset()\n",
    "print(u.issuperset(s1))\n",
    "print(u.issuperset(s2))\n",
    "print(u.issuperset(s3))\n",
    "\n",
    "# check issubset\n",
    "print(s1.issubset(u))\n",
    "print(s2.issubset(u))\n",
    "print(s3.issubset(u))"
   ]
  },
  {
   "cell_type": "markdown",
   "id": "6da9c8e4-6c08-43b3-9c50-42f2b6c99e51",
   "metadata": {},
   "source": [
    "## No mutable sequence in a set\n",
    "\n",
    "A set can not have mutable elements such as list or dictionary in it. If any, it returns error"
   ]
  },
  {
   "cell_type": "code",
   "execution_count": 31,
   "id": "0dce4bf5-772a-466c-afee-ba7b9430347e",
   "metadata": {},
   "outputs": [
    {
     "ename": "TypeError",
     "evalue": "unhashable type: 'list'",
     "output_type": "error",
     "traceback": [
      "\u001b[1;31m---------------------------------------------------------------------------\u001b[0m",
      "\u001b[1;31mTypeError\u001b[0m                                 Traceback (most recent call last)",
      "Cell \u001b[1;32mIn [31], line 1\u001b[0m\n\u001b[1;32m----> 1\u001b[0m s \u001b[38;5;241m=\u001b[39m {\u001b[38;5;124m'\u001b[39m\u001b[38;5;124mnaim\u001b[39m\u001b[38;5;124m'\u001b[39m, \u001b[38;5;241m1\u001b[39m, \u001b[38;5;241m2\u001b[39m, \u001b[38;5;241m3\u001b[39m, [\u001b[38;5;241m4\u001b[39m, \u001b[38;5;241m5\u001b[39m, \u001b[38;5;241m6\u001b[39m]}\n\u001b[0;32m      2\u001b[0m s\n",
      "\u001b[1;31mTypeError\u001b[0m: unhashable type: 'list'"
     ]
    }
   ],
   "source": [
    "s = {'naim', 1, 2, 3, [4, 5, 6]}\n",
    "s"
   ]
  },
  {
   "cell_type": "code",
   "execution_count": 32,
   "id": "8da4634e-a520-468f-9e43-5b858920124a",
   "metadata": {},
   "outputs": [
    {
     "ename": "TypeError",
     "evalue": "'set' object is not subscriptable",
     "output_type": "error",
     "traceback": [
      "\u001b[1;31m---------------------------------------------------------------------------\u001b[0m",
      "\u001b[1;31mTypeError\u001b[0m                                 Traceback (most recent call last)",
      "Cell \u001b[1;32mIn [32], line 5\u001b[0m\n\u001b[0;32m      1\u001b[0m \u001b[38;5;66;03m# index function\u001b[39;00m\n\u001b[0;32m      2\u001b[0m \u001b[38;5;66;03m# this function doesn't work in set since the set is unordered collection\u001b[39;00m\n\u001b[0;32m      4\u001b[0m s \u001b[38;5;241m=\u001b[39m {\u001b[38;5;241m1\u001b[39m, \u001b[38;5;241m2\u001b[39m, \u001b[38;5;241m3\u001b[39m, \u001b[38;5;241m4\u001b[39m}\n\u001b[1;32m----> 5\u001b[0m \u001b[43ms\u001b[49m\u001b[43m[\u001b[49m\u001b[38;5;241;43m0\u001b[39;49m\u001b[43m]\u001b[49m\n",
      "\u001b[1;31mTypeError\u001b[0m: 'set' object is not subscriptable"
     ]
    }
   ],
   "source": [
    "# index function\n",
    "# this function doesn't work in set since the set is unordered collection\n",
    "\n",
    "s = {1, 2, 3, 4}\n",
    "s[0]"
   ]
  },
  {
   "cell_type": "markdown",
   "id": "7798259e-f04f-43ec-a3b1-1a7d037a9bb3",
   "metadata": {},
   "source": [
    "# Copy of set"
   ]
  },
  {
   "cell_type": "code",
   "execution_count": 39,
   "id": "4ad2ba6d-5a30-4ff2-b65e-ecaada632c84",
   "metadata": {},
   "outputs": [
    {
     "name": "stdout",
     "output_type": "stream",
     "text": [
      "{1, 2, 3, 4, 5, 6}\n",
      "{1, 2, 3, 4, 5, 6}\n",
      "{1, 2, 3, 4, 5, 6, 7}\n",
      "{1, 2, 3, 4, 5, 6, 7}\n",
      "{1, 3, 5, 7}\n",
      "{1, 3, 5, 7}\n",
      "{1, 3, 5, 7}\n",
      "{1, 3, 5, 7, 9}\n",
      "{1, 2, 3, 4}\n",
      "{2, 3, 4}\n",
      "set()\n"
     ]
    }
   ],
   "source": [
    "s = {1, 2, 3, 4, 5, 6}\n",
    "t_s = s\n",
    "print(s)\n",
    "print(t_s)\n",
    "\n",
    "t_s.add(7)\n",
    "print(s)\n",
    "print(t_s)\n",
    "\n",
    "# use of copy function\n",
    "\n",
    "s3 = {1, 3, 5, 7}\n",
    "s4 = s3.copy() # makes a copy doesn't copy memory ref.\n",
    "print(s3)\n",
    "print(s4)\n",
    "\n",
    "s4.add(9)\n",
    "print(s3)\n",
    "print(s4)\n",
    "\n",
    "# pop function \n",
    "# it removes and return as arbitrary set element\n",
    "s = {1, 2, 3, 4}\n",
    "print(s)\n",
    "s.pop()\n",
    "print(s)\n",
    "\n",
    "# clear function used to clear a set\n",
    "\n",
    "s.clear()\n",
    "print(s)"
   ]
  },
  {
   "cell_type": "code",
   "execution_count": null,
   "id": "c678139a-4e16-4e63-80cd-c42e4e00ea9b",
   "metadata": {},
   "outputs": [],
   "source": []
  }
 ],
 "metadata": {
  "kernelspec": {
   "display_name": "Python 3 (ipykernel)",
   "language": "python",
   "name": "python3"
  },
  "language_info": {
   "codemirror_mode": {
    "name": "ipython",
    "version": 3
   },
   "file_extension": ".py",
   "mimetype": "text/x-python",
   "name": "python",
   "nbconvert_exporter": "python",
   "pygments_lexer": "ipython3",
   "version": "3.10.4"
  }
 },
 "nbformat": 4,
 "nbformat_minor": 5
}
