{
 "cells": [
  {
   "cell_type": "markdown",
   "id": "081e69f6-0d65-40e5-87ae-f9267d7116c1",
   "metadata": {},
   "source": [
    "# Conditions in Python"
   ]
  },
  {
   "cell_type": "markdown",
   "id": "128c16bb-0252-4191-a798-75b50374cdcb",
   "metadata": {},
   "source": [
    "## Branching (if, elif, else)\n",
    "\n",
    "- Decisioin making is required when we want to execute a code only if a certain condition is satisfies\n",
    "- The if/elif/else statement is used in Python for decision making.\n",
    "- Al else statement can be combined with an if statement\n",
    "- An else sattement contains the block of code that executes if the conditional expression in the if block resolves to 0 or False value\n",
    "- The else statement is an optional statement and there and there could be at most only one else statement combined with if\n",
    "- The elif statement allows tocheck multiple expressions for True and execute a block of code as one of the conditions evaluates to True"
   ]
  },
  {
   "cell_type": "code",
   "execution_count": 5,
   "id": "e9bc3d44-b68c-4389-9ea9-d30e0897a2da",
   "metadata": {},
   "outputs": [
    {
     "name": "stdout",
     "output_type": "stream",
     "text": [
      "the number 2.33 is less that or equal to 3.55\n",
      "done!\n"
     ]
    }
   ],
   "source": [
    "num1 = 2.33\n",
    "num2 = 3.55\n",
    "\n",
    "# Check which num is greater\n",
    "if num1 > num2:\n",
    "    \n",
    "    # if the conditions is True, the following statement will be printed\n",
    "    print(f'the number {num1} is greater than {num2}')\n",
    "else : \n",
    "    print(f'the number {num1} is less that or equal to {num2}')\n",
    "print('done!')"
   ]
  },
  {
   "cell_type": "code",
   "execution_count": 8,
   "id": "9b7b825c-2dcb-47fa-90cd-68201d245e31",
   "metadata": {},
   "outputs": [
    {
     "name": "stdout",
     "output_type": "stream",
     "text": [
      "hello python!\n",
      "executed\n",
      "this will executed!\n"
     ]
    }
   ],
   "source": [
    "if 1:\n",
    "    print('hello python!')\n",
    "    \n",
    "if True:\n",
    "    print('executed')\n",
    "\n",
    "if False:\n",
    "    print('not executed')\n",
    "else:\n",
    "    print('this will executed!')"
   ]
  },
  {
   "cell_type": "code",
   "execution_count": 9,
   "id": "a7df52ba-05b3-453b-945e-2dd0b50f9a86",
   "metadata": {},
   "outputs": [
    {
     "name": "stdout",
     "output_type": "stream",
     "text": [
      "you are 18 year's old\n"
     ]
    }
   ],
   "source": [
    "# Let's take an example\n",
    "\n",
    "age = 18\n",
    "\n",
    "if age > 18:\n",
    "    print('you are not a teenager!')\n",
    "elif age < 18:\n",
    "    print('you are a teenager!')\n",
    "else :\n",
    "    print('you are 18 year\\'s old')"
   ]
  },
  {
   "cell_type": "code",
   "execution_count": 10,
   "id": "f7d5146d-d442-4961-b527-2ceeaf8cff08",
   "metadata": {},
   "outputs": [
    {
     "name": "stdin",
     "output_type": "stream",
     "text": [
      "enter the rating of the movie:  6.5\n"
     ]
    },
    {
     "name": "stdout",
     "output_type": "stream",
     "text": [
      "your entered movie rating is : 6.5\n",
      "the movie with rating 6.5 is not watchable\n"
     ]
    }
   ],
   "source": [
    "# another example\n",
    "\n",
    "movie_rating = float(input('enter the rating of the movie: '))\n",
    "print(f'your entered movie rating is : {movie_rating}')\n",
    "\n",
    "if movie_rating > 6.5:\n",
    "    print('the movie with rating {} is watchable'.format(movie_rating))\n",
    "else:\n",
    "    print('the movie with rating {} is not watchable'.format(movie_rating))"
   ]
  },
  {
   "cell_type": "code",
   "execution_count": 11,
   "id": "b0bc328b-d8cb-404d-8ab8-927cf77447f3",
   "metadata": {},
   "outputs": [
    {
     "name": "stdin",
     "output_type": "stream",
     "text": [
      "enter a number :  25\n"
     ]
    },
    {
     "name": "stdout",
     "output_type": "stream",
     "text": [
      "the entered number if : 25\n",
      "number is odd\n"
     ]
    }
   ],
   "source": [
    "# check a number is odd or even\n",
    "\n",
    "num = int(input('enter a number : '))\n",
    "\n",
    "print(f'the entered number if : {num}')\n",
    "\n",
    "if num % 2 == 0:\n",
    "    print('number is even')\n",
    "else :\n",
    "    print('number is odd')"
   ]
  },
  {
   "cell_type": "markdown",
   "id": "9b719391-f9ed-4157-ae21-716087e093bb",
   "metadata": {},
   "source": [
    "# Logical operators\n",
    "\n",
    "### Logical operators are used to combine conditional statements.\n",
    "- and: returns True if both statements are true\n",
    "- or: returns true if one of the statements are true\n",
    "- not: reverse the result"
   ]
  },
  {
   "cell_type": "code",
   "execution_count": 13,
   "id": "0699f7c0-5a46-4050-8ee1-92f1e2b7c78a",
   "metadata": {},
   "outputs": [
    {
     "name": "stdout",
     "output_type": "stream",
     "text": [
      "90's kids\n"
     ]
    }
   ],
   "source": [
    "birth_year = 1990\n",
    "if birth_year >= 1990 and birth_year <= 1999:\n",
    "    print('90\\'s kids')\n",
    "else:\n",
    "    print('others!')"
   ]
  },
  {
   "cell_type": "code",
   "execution_count": 15,
   "id": "bc2d7983-4ceb-4765-bc2b-dd89a8fa58ef",
   "metadata": {},
   "outputs": [
    {
     "name": "stdin",
     "output_type": "stream",
     "text": [
      "Enter a number: 2\n",
      "Enter a number:  5\n",
      "Enter a number: 6\n"
     ]
    },
    {
     "name": "stdout",
     "output_type": "stream",
     "text": [
      "The entered numbers for x, y, and z are 2, 5, and 6, respectively.\n",
      "The number z with 6 is the greatest number.\n"
     ]
    }
   ],
   "source": [
    "x = int(input('Enter a number:'))\n",
    "y = int(input('Enter a number: '))\n",
    "z = int(input('Enter a number:'))\n",
    "\n",
    "print(f'The entered numbers for x, y, and z are {x}, {y}, and {z}, respectively.')\n",
    "\n",
    "if x>y and x>z:\n",
    "    print(f'The number x with {x} is the greatest number.')\n",
    "elif y>x and y>z:\n",
    "     print(f'The number y with {y} is the greatest number.')\n",
    "else:\n",
    "     print(f'The number z with {z} is the greatest number.')"
   ]
  },
  {
   "cell_type": "code",
   "execution_count": 16,
   "id": "1a3d4d24-9716-460a-8d75-bb2eb2cff2f6",
   "metadata": {},
   "outputs": [
    {
     "name": "stdout",
     "output_type": "stream",
     "text": [
      "enter valid number\n"
     ]
    }
   ],
   "source": [
    "num = 2\n",
    "\n",
    "if not num == 2:\n",
    "    print('print invalid statement')\n",
    "else : print('enter valid number')"
   ]
  },
  {
   "cell_type": "code",
   "execution_count": 17,
   "id": "5498a1c8-f4cf-437b-b550-b2e96379172a",
   "metadata": {},
   "outputs": [
    {
     "name": "stdin",
     "output_type": "stream",
     "text": [
      "Enter a year of birth:  1992\n"
     ]
    },
    {
     "name": "stdout",
     "output_type": "stream",
     "text": [
      "The entered year of birth is: 1992\n",
      "Your year of birth with 1992 is wrong.\n"
     ]
    }
   ],
   "source": [
    "# let's code\n",
    "\n",
    "birth_year = int(input('Enter a year of birth: '))\n",
    "\n",
    "print(f'The entered year of birth is: {birth_year}')\n",
    "\n",
    "if birth_year < 1985 or birth_year == 1991 or birth_year == 1995:\n",
    "    # For instance, if your year of birth is 1995\n",
    "    print(f'You were born in {birth_year}')\n",
    "else:\n",
    "    print(f'Your year of birth with {birth_year} is wrong.')\n"
   ]
  },
  {
   "cell_type": "code",
   "execution_count": null,
   "id": "39082d00-5982-4b46-be72-b989d2cbeec0",
   "metadata": {},
   "outputs": [],
   "source": []
  }
 ],
 "metadata": {
  "kernelspec": {
   "display_name": "Python 3 (ipykernel)",
   "language": "python",
   "name": "python3"
  },
  "language_info": {
   "codemirror_mode": {
    "name": "ipython",
    "version": 3
   },
   "file_extension": ".py",
   "mimetype": "text/x-python",
   "name": "python",
   "nbconvert_exporter": "python",
   "pygments_lexer": "ipython3",
   "version": "3.10.4"
  }
 },
 "nbformat": 4,
 "nbformat_minor": 5
}
