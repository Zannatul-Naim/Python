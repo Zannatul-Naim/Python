{
 "cells": [
  {
   "cell_type": "markdown",
   "id": "c9d14068-ab2d-485d-ab4d-3b1f858d9bc2",
   "metadata": {},
   "source": [
    "# Exception Handling in Python\n",
    "\n",
    "- An exception is an even, which occurs during the execution of a program that disrupts the normal flow of program.\n",
    "- In generel a python script encounters a situation that it cannot cope with, it raises an exception\n",
    "- An exception is a Python object that reperesents an error\n",
    "- When an exception occured then the programs terminates and quits\n",
    "- If some suspicious code that may raise an exception, you can defined your program by placed in the suspicious code in a try: block\n",
    "- After the try: block, include an except: statement, followed by a block of code which handles the problemas elegantly as possible\n",
    "- <b>Common exceptions</b>\n",
    "    - ZeroDivisionError\n",
    "    - NameError\n",
    "    - ValueError\n",
    "    - IOError\n",
    "    - EOFError\n",
    "    - IndentationError"
   ]
  },
  {
   "cell_type": "markdown",
   "id": "aa5f13a5-5254-4281-af11-5afcbaf2f392",
   "metadata": {},
   "source": [
    "## ZeroDivisionError"
   ]
  },
  {
   "cell_type": "code",
   "execution_count": 2,
   "id": "5fafa267-1605-4d47-aa2c-3647dcb64d2c",
   "metadata": {},
   "outputs": [
    {
     "name": "stdout",
     "output_type": "stream",
     "text": [
      "division by zero occured!\n"
     ]
    },
    {
     "ename": "ZeroDivisionError",
     "evalue": "division by zero",
     "output_type": "error",
     "traceback": [
      "\u001b[1;31m---------------------------------------------------------------------------\u001b[0m",
      "\u001b[1;31mZeroDivisionError\u001b[0m                         Traceback (most recent call last)",
      "Cell \u001b[1;32mIn [2], line 8\u001b[0m\n\u001b[0;32m      5\u001b[0m \u001b[38;5;28;01mexcept\u001b[39;00m \u001b[38;5;167;01mZeroDivisionError\u001b[39;00m:\n\u001b[0;32m      6\u001b[0m     \u001b[38;5;28mprint\u001b[39m(\u001b[38;5;124m'\u001b[39m\u001b[38;5;124mdivision by zero occured!\u001b[39m\u001b[38;5;124m'\u001b[39m)\n\u001b[1;32m----> 8\u001b[0m \u001b[38;5;28mprint\u001b[39m(\u001b[38;5;241;43m1\u001b[39;49m\u001b[38;5;241;43m/\u001b[39;49m\u001b[38;5;241;43m0\u001b[39;49m)\n",
      "\u001b[1;31mZeroDivisionError\u001b[0m: division by zero"
     ]
    }
   ],
   "source": [
    "# if a number is divided by 0, it gives a ZeroDivisionError.\n",
    "\n",
    "try:\n",
    "    1/0\n",
    "except ZeroDivisionError:\n",
    "    print('division by zero occured!')\n",
    "\n",
    "print(1/0) # sample error"
   ]
  },
  {
   "cell_type": "code",
   "execution_count": 3,
   "id": "720f202b-b15b-41ae-85ff-a06468b12d8d",
   "metadata": {},
   "outputs": [
    {
     "name": "stdout",
     "output_type": "stream",
     "text": [
      "this code gives a ZeroDivisionError\n",
      "END!\n"
     ]
    }
   ],
   "source": [
    "lst = []\n",
    "count = 0\n",
    "\n",
    "try:\n",
    "    mean = count/len(lst)\n",
    "    print('mean = ', mean)\n",
    "except ZeroDivisionError:\n",
    "    print('this code gives a ZeroDivisionError')\n",
    "    \n",
    "print('END!')"
   ]
  },
  {
   "cell_type": "code",
   "execution_count": 4,
   "id": "d9e33380-f5cf-4dc7-b5b0-40b50bc4576c",
   "metadata": {},
   "outputs": [
    {
     "name": "stdout",
     "output_type": "stream",
     "text": [
      "This code gives a ZeroDivisionError\n"
     ]
    },
    {
     "ename": "NameError",
     "evalue": "name 'mean' is not defined",
     "output_type": "error",
     "traceback": [
      "\u001b[1;31m---------------------------------------------------------------------------\u001b[0m",
      "\u001b[1;31mNameError\u001b[0m                                 Traceback (most recent call last)",
      "Cell \u001b[1;32mIn [4], line 10\u001b[0m\n\u001b[0;32m      7\u001b[0m     \u001b[38;5;28mprint\u001b[39m(\u001b[38;5;124m'\u001b[39m\u001b[38;5;124mThis code gives a ZeroDivisionError\u001b[39m\u001b[38;5;124m'\u001b[39m)\n\u001b[0;32m      9\u001b[0m \u001b[38;5;66;03m# Since the variable 'mean' is not defined, it gives us a 'NameError\u001b[39;00m\n\u001b[1;32m---> 10\u001b[0m \u001b[38;5;28mprint\u001b[39m(\u001b[43mmean\u001b[49m)\n",
      "\u001b[1;31mNameError\u001b[0m: name 'mean' is not defined"
     ]
    }
   ],
   "source": [
    "lst = []\n",
    "count = 0\n",
    "try:\n",
    "    mean = count/len(lst)\n",
    "    print('The mean value is', mean)\n",
    "except ZeroDivisionError:\n",
    "    print('This code gives a ZeroDivisionError')\n",
    "\n",
    "# Since the variable 'mean' is not defined, it gives us a 'NameError\n",
    "print(mean)\n"
   ]
  },
  {
   "cell_type": "code",
   "execution_count": 5,
   "id": "4d190b32-c67c-41bc-a3d5-bfc27b49bd77",
   "metadata": {},
   "outputs": [
    {
     "name": "stdout",
     "output_type": "stream",
     "text": [
      "This code gives a NameError.\n"
     ]
    }
   ],
   "source": [
    "try:\n",
    "    y = x+5\n",
    "except NameError:\n",
    "    print('This code gives a NameError.')\n"
   ]
  },
  {
   "cell_type": "code",
   "execution_count": 7,
   "id": "19409ef5-3990-415d-a1dc-4e40d10d975c",
   "metadata": {},
   "outputs": [
    {
     "name": "stdout",
     "output_type": "stream",
     "text": [
      "This code gives a NameError\n"
     ]
    },
    {
     "ename": "NameError",
     "evalue": "name 'naim' is not defined",
     "output_type": "error",
     "traceback": [
      "\u001b[1;31m---------------------------------------------------------------------------\u001b[0m",
      "\u001b[1;31mNameError\u001b[0m                                 Traceback (most recent call last)",
      "Cell \u001b[1;32mIn [7], line 9\u001b[0m\n\u001b[0;32m      6\u001b[0m \u001b[38;5;28;01mexcept\u001b[39;00m \u001b[38;5;167;01mNameError\u001b[39;00m:\n\u001b[0;32m      7\u001b[0m     \u001b[38;5;28mprint\u001b[39m(\u001b[38;5;124m'\u001b[39m\u001b[38;5;124mThis code gives a NameError\u001b[39m\u001b[38;5;124m'\u001b[39m)\n\u001b[1;32m----> 9\u001b[0m name \u001b[38;5;241m=\u001b[39m (\u001b[43mnaim\u001b[49m)\n\u001b[0;32m     10\u001b[0m \u001b[38;5;28mprint\u001b[39m(name, \u001b[38;5;124m'\u001b[39m\u001b[38;5;124mtoday is your day! \u001b[39m\u001b[38;5;124m'\u001b[39m)\n",
      "\u001b[1;31mNameError\u001b[0m: name 'naim' is not defined"
     ]
    }
   ],
   "source": [
    "# sicne nime is not defined, the following code gives us a 'NameError'\n",
    "\n",
    "try:\n",
    "    name = (naim)\n",
    "    print(name, 'today is your day!')\n",
    "except NameError:\n",
    "    print('This code gives a NameError')\n",
    "\n",
    "name = (naim)\n",
    "print(name, 'today is your day! ')"
   ]
  },
  {
   "cell_type": "markdown",
   "id": "2640ed0b-8ffb-447c-b3bb-0c45773b3b08",
   "metadata": {},
   "source": [
    "## IndexError"
   ]
  },
  {
   "cell_type": "code",
   "execution_count": 8,
   "id": "26c4407c-429f-4d02-9b99-451396617350",
   "metadata": {},
   "outputs": [
    {
     "name": "stdout",
     "output_type": "stream",
     "text": [
      "This code gives us a IndexError\n"
     ]
    },
    {
     "ename": "IndexError",
     "evalue": "list index out of range",
     "output_type": "error",
     "traceback": [
      "\u001b[1;31m---------------------------------------------------------------------------\u001b[0m",
      "\u001b[1;31mIndexError\u001b[0m                                Traceback (most recent call last)",
      "Cell \u001b[1;32mIn [8], line 7\u001b[0m\n\u001b[0;32m      4\u001b[0m \u001b[38;5;28;01mexcept\u001b[39;00m \u001b[38;5;167;01mIndexError\u001b[39;00m:\n\u001b[0;32m      5\u001b[0m     \u001b[38;5;28mprint\u001b[39m(\u001b[38;5;124m'\u001b[39m\u001b[38;5;124mThis code gives us a IndexError\u001b[39m\u001b[38;5;124m'\u001b[39m)\n\u001b[1;32m----> 7\u001b[0m \u001b[38;5;28mprint\u001b[39m(\u001b[43mlst\u001b[49m\u001b[43m[\u001b[49m\u001b[38;5;241;43m5\u001b[39;49m\u001b[43m]\u001b[49m)\n",
      "\u001b[1;31mIndexError\u001b[0m: list index out of range"
     ]
    }
   ],
   "source": [
    "lst = ['a', 'b' 'c', 'd']\n",
    "try:\n",
    "    print(lst[5])\n",
    "except IndexError:\n",
    "    print('This code gives us a IndexError')\n",
    "\n",
    "print(lst[5])"
   ]
  },
  {
   "cell_type": "markdown",
   "id": "052e2126-b19e-4b57-9504-21f3db6869e9",
   "metadata": {},
   "source": [
    "# KeyError"
   ]
  },
  {
   "cell_type": "code",
   "execution_count": 11,
   "id": "7e17dedf-4d18-4046-bc60-41a877df3773",
   "metadata": {},
   "outputs": [
    {
     "name": "stdout",
     "output_type": "stream",
     "text": [
      "This code gives a KeyError\n",
      "0.577\n"
     ]
    }
   ],
   "source": [
    "dictionary = {'pr':3.14, 'euler-constant': 0.577}\n",
    "try:\n",
    "    dictionary = dictionary['euler-numgber']\n",
    "except KeyError:\n",
    "    print('This code gives a KeyError')\n",
    "\n",
    "print(dictionary['euler-constant'])"
   ]
  },
  {
   "cell_type": "markdown",
   "id": "2390c056-60b7-4c0b-8e5e-6f704f905223",
   "metadata": {},
   "source": [
    "## Handle Exception\n",
    "\n",
    "### try/except"
   ]
  },
  {
   "cell_type": "code",
   "execution_count": 12,
   "id": "56bf029b-c704-4d63-a406-8b6d3bbd5d20",
   "metadata": {},
   "outputs": [
    {
     "name": "stdout",
     "output_type": "stream",
     "text": [
      "Since the variable name is not defined, the function gives a NameError\n"
     ]
    }
   ],
   "source": [
    "try:\n",
    "    print(name)\n",
    "except NameError:\n",
    "    print('Since the variable name is not defined, the function gives a NameError')"
   ]
  },
  {
   "cell_type": "code",
   "execution_count": 13,
   "id": "48aa0d43-822c-4d59-865b-bf16a9c2e080",
   "metadata": {},
   "outputs": [
    {
     "name": "stdin",
     "output_type": "stream",
     "text": [
      "enter a number :  5\n",
      "enter a number :  5.0\n"
     ]
    },
    {
     "name": "stdout",
     "output_type": "stream",
     "text": [
      "This process is running with value =  1.0\n"
     ]
    }
   ],
   "source": [
    "num1 = float(input('enter a number : '))\n",
    "\n",
    "try:\n",
    "    num2 = float(input('enter a number : '))\n",
    "    value = num1/num2\n",
    "    print('This process is running with value = ', value)\n",
    "except:\n",
    "    print('This process is not running')"
   ]
  },
  {
   "cell_type": "markdown",
   "id": "50657ce4-9948-4975-abbb-040a4754875e",
   "metadata": {},
   "source": [
    "### Multiple Except Blocks\n",
    "\n",
    "### try/except/except etc."
   ]
  },
  {
   "cell_type": "code",
   "execution_count": 14,
   "id": "c23ebef4-6bad-459a-90a0-eea24a30c0f5",
   "metadata": {},
   "outputs": [
    {
     "name": "stdin",
     "output_type": "stream",
     "text": [
      "enter a number :  2\n",
      "enter a number :  0\n"
     ]
    },
    {
     "name": "stdout",
     "output_type": "stream",
     "text": [
      "ZeroDivisionError\n"
     ]
    }
   ],
   "source": [
    "num1 = float(input('enter a number : '))\n",
    "\n",
    "try:\n",
    "    num2 = float(input('enter a number : '))\n",
    "    value = num1/num2\n",
    "    print('This process is running with value = ', value)\n",
    "except ZeroDivisionError:\n",
    "    print('ZeroDivisionError')\n",
    "except ValueError:\n",
    "    print('ValueError')\n",
    "except:\n",
    "    print('Somethin went wront!')"
   ]
  },
  {
   "cell_type": "markdown",
   "id": "08b9ae77-3a96-4c04-a8d0-ab994754dbd8",
   "metadata": {},
   "source": [
    "### try/except/else/finally"
   ]
  },
  {
   "cell_type": "code",
   "execution_count": 16,
   "id": "01eb92f7-823d-4efe-8305-3e5cefccb5f3",
   "metadata": {},
   "outputs": [
    {
     "name": "stdin",
     "output_type": "stream",
     "text": [
      "enter a number :  5\n",
      "enter a number :  3\n"
     ]
    },
    {
     "name": "stdout",
     "output_type": "stream",
     "text": [
      "this proces is running with value=  1.6666666666666667\n",
      "End of the progaram!\n"
     ]
    }
   ],
   "source": [
    "num1 = float(input('enter a number : '))\n",
    "\n",
    "try:\n",
    "    num2 = float(input('enter a number : '))\n",
    "    value = num1/num2\n",
    "except ZeroDivisionError:\n",
    "    print('ZeroDivisionError')\n",
    "except ValueError:\n",
    "    print('ValueError')\n",
    "except:\n",
    "    print('Somethin went wront!')\n",
    "else:\n",
    "    print('this proces is running with value= ', value)\n",
    "finally:\n",
    "    print('End of the progaram!')"
   ]
  },
  {
   "cell_type": "code",
   "execution_count": 18,
   "id": "db1a42bb-9840-4c71-a786-d7ffd0183266",
   "metadata": {},
   "outputs": [
    {
     "name": "stdin",
     "output_type": "stream",
     "text": [
      "enter a number :  5\n",
      "enter a number :  1\n"
     ]
    },
    {
     "name": "stdout",
     "output_type": "stream",
     "text": [
      "this proces is running with value=  5.0\n",
      "End of the progaram!\n"
     ]
    }
   ],
   "source": [
    "num1 = float(input('enter a number : '))\n",
    "\n",
    "try:\n",
    "    num2 = float(input('enter a number : '))\n",
    "    value = num1/num2\n",
    "except (ZeroDivisionError, NameError, ValueError): # Multiple cxcept clauses\n",
    "    print('this function gives a ZeroDivisionError, NameError or ValueError')\n",
    "else:\n",
    "    print('this proces is running with value= ', value)\n",
    "finally:\n",
    "    print('End of the progaram!')"
   ]
  },
  {
   "cell_type": "markdown",
   "id": "ea74e74c-c799-489b-b754-050f211b99a2",
   "metadata": {},
   "source": [
    "# Raising in Exception\n",
    "\n",
    "Using the 'raise' keyword, the programmer can throw an exception when a certain condition is reached"
   ]
  },
  {
   "cell_type": "code",
   "execution_count": 20,
   "id": "5aa02cff-2015-4b09-a66b-835a71989e19",
   "metadata": {},
   "outputs": [
    {
     "name": "stdin",
     "output_type": "stream",
     "text": [
      "Enter your age :  12\n"
     ]
    },
    {
     "name": "stdout",
     "output_type": "stream",
     "text": [
      "less than 18 year's not allowed\n",
      "end of the program!\n"
     ]
    }
   ],
   "source": [
    "age = int(input('Enter your age : '))\n",
    "try: \n",
    "    if age < 18:\n",
    "        raise Exception('AgeRestriction')\n",
    "except :\n",
    "    print('less than 18 year\\'s not allowed')\n",
    "\n",
    "finally:\n",
    "    print('end of the program!')"
   ]
  },
  {
   "cell_type": "code",
   "execution_count": null,
   "id": "00ee2dc0-9656-4371-bda1-f4733fee1146",
   "metadata": {},
   "outputs": [],
   "source": []
  }
 ],
 "metadata": {
  "kernelspec": {
   "display_name": "Python 3 (ipykernel)",
   "language": "python",
   "name": "python3"
  },
  "language_info": {
   "codemirror_mode": {
    "name": "ipython",
    "version": 3
   },
   "file_extension": ".py",
   "mimetype": "text/x-python",
   "name": "python",
   "nbconvert_exporter": "python",
   "pygments_lexer": "ipython3",
   "version": "3.10.4"
  }
 },
 "nbformat": 4,
 "nbformat_minor": 5
}
