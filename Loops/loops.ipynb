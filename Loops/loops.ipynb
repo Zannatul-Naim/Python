{
 "cells": [
  {
   "cell_type": "markdown",
   "id": "8d7a3e18-caad-44c7-a2fd-a6bfc1dd0775",
   "metadata": {},
   "source": [
    "# Loops in Python\n",
    "\n",
    "- A for loop is used for iterating over a sequence (that is either a list, tuple, a dictionary, a set, or a string).\n",
    "- The for loop doesn't require an indexing variable to set beforehand.\n",
    "- With the while loop we can execute a set of statements as long as a condition is true."
   ]
  },
  {
   "cell_type": "markdown",
   "id": "e78d1baa-fef2-4cee-97f5-48ca242c2521",
   "metadata": {},
   "source": [
    "### range() function\n",
    "\n",
    "- It is helpful to think of the range object as an ordered list.\n",
    "- To loop through a set of code a specified number of times\n",
    "- The range() function returns a sequence of numbers, starting from 0 by default, and increment by 1 by defauld, and ends at a specified number."
   ]
  },
  {
   "cell_type": "code",
   "execution_count": 17,
   "id": "132dcbd2-b7a2-4078-98b3-dca5b4c4bd0c",
   "metadata": {},
   "outputs": [
    {
     "name": "stdout",
     "output_type": "stream",
     "text": [
      "0 1 2 3 4 5 6 7 8 9 "
     ]
    }
   ],
   "source": [
    "# let's take a general for loop\n",
    "\n",
    "for i in range(0, 10):\n",
    "    print(i, end=' ')"
   ]
  },
  {
   "cell_type": "code",
   "execution_count": 2,
   "id": "550139b4-415e-47da-a1ac-80b6d75a4814",
   "metadata": {},
   "outputs": [
    {
     "name": "stdout",
     "output_type": "stream",
     "text": [
      "range(0, 5)\n",
      "range(1, 10)\n"
     ]
    }
   ],
   "source": [
    "# Let's check range() function\n",
    "\n",
    "print(range(5))\n",
    "print(range(1, 10))"
   ]
  },
  {
   "cell_type": "code",
   "execution_count": 16,
   "id": "d8a9d915-054c-450c-b8c2-bbaffd98f995",
   "metadata": {},
   "outputs": [
    {
     "name": "stdout",
     "output_type": "stream",
     "text": [
      "1 2 3 4 5 6 7 8 9 10 "
     ]
    }
   ],
   "source": [
    "# Let's take an example\n",
    "# Directly accessing to the elements in the list\n",
    "\n",
    "numbers = [1, 2, 3, 4, 5, 6, 7, 8, 9, 10]\n",
    "\n",
    "for number in numbers:\n",
    "    print(number, end=' ')"
   ]
  },
  {
   "cell_type": "code",
   "execution_count": 15,
   "id": "0e153c53-835f-480f-9145-eeb343f7f920",
   "metadata": {},
   "outputs": [
    {
     "name": "stdout",
     "output_type": "stream",
     "text": [
      "1 2 3 4 5 6 7 8 9 10 "
     ]
    }
   ],
   "source": [
    "# let's take another example\n",
    "\n",
    "for i in range(len(numbers)):\n",
    "    print(numbers[i], end=\" \")"
   ]
  },
  {
   "cell_type": "code",
   "execution_count": 14,
   "id": "5d645139-299d-4249-ac2f-ea05d91211a6",
   "metadata": {},
   "outputs": [
    {
     "name": "stdout",
     "output_type": "stream",
     "text": [
      "2 5 8 11 "
     ]
    }
   ],
   "source": [
    "# Striding in for loop\n",
    "\n",
    "for i in range(2, 12, 3):\n",
    "    print(i, end= \" \")"
   ]
  },
  {
   "cell_type": "code",
   "execution_count": 9,
   "id": "baae76be-4e52-482a-988a-f441a4e06298",
   "metadata": {},
   "outputs": [
    {
     "name": "stdout",
     "output_type": "stream",
     "text": [
      "0 naim\n",
      "1 ashraful\n",
      "2 shakil\n",
      "3 sayed\n",
      "4 nasir\n"
     ]
    }
   ],
   "source": [
    "# Enumaretion of the elements in the list\n",
    "\n",
    "names = ['naim', 'ashraful', 'shakil', 'sayed', 'nasir']\n",
    "\n",
    "for index, name in enumerate(names):\n",
    "    print(index, name)"
   ]
  },
  {
   "cell_type": "code",
   "execution_count": 13,
   "id": "25f1f0b6-ac54-4ba8-bac9-a53c370f2951",
   "metadata": {},
   "outputs": [
    {
     "name": "stdout",
     "output_type": "stream",
     "text": [
      "-10 -9 -8 -7 -6 -5 -4 -3 -2 -1 0 1 2 3 "
     ]
    }
   ],
   "source": [
    "# Take the number between -10 to 3 using for loop\n",
    "\n",
    "# use range() function\n",
    "\n",
    "for i in range(-10, 4):\n",
    "    print(i, end=\" \")"
   ]
  },
  {
   "cell_type": "code",
   "execution_count": 19,
   "id": "9ea7c9bd-2432-442f-a0bc-64e0ee61e37c",
   "metadata": {},
   "outputs": [
    {
     "name": "stdin",
     "output_type": "stream",
     "text": [
      "enter a number to get multiplication table :  5\n"
     ]
    },
    {
     "name": "stdout",
     "output_type": "stream",
     "text": [
      "5X1 = 5\n",
      "5X2 = 10\n",
      "5X3 = 15\n",
      "5X4 = 20\n",
      "5X5 = 25\n",
      "5X6 = 30\n",
      "5X7 = 35\n",
      "5X8 = 40\n",
      "5X9 = 45\n",
      "5X10 = 50\n"
     ]
    }
   ],
   "source": [
    "# Let's create a multiplication table using for loop \n",
    "\n",
    "number = int(input('enter a number to get multiplication table : '))\n",
    "\n",
    "for i in range(1, 11):\n",
    "    print(f'{number}X{i} = {number*i}')"
   ]
  },
  {
   "cell_type": "code",
   "execution_count": 21,
   "id": "fc26f8c8-6938-480e-bc24-eb9005713183",
   "metadata": {},
   "outputs": [
    {
     "name": "stdout",
     "output_type": "stream",
     "text": [
      "total value is : 208.39999999999998\n",
      "average is : 26.049999999999997\n"
     ]
    }
   ],
   "source": [
    "# addition and average calculation in for loop\n",
    "\n",
    "lst = [1.20, 3.33, 6.54, 50, 20, 40, 54, 33.33]\n",
    "\n",
    "# write a for loop for addition\n",
    "\n",
    "count = 0\n",
    "\n",
    "for i in lst:\n",
    "    count += i\n",
    "\n",
    "print(f'total value is : {count}')\n",
    "\n",
    "avg = count/len(lst)\n",
    "\n",
    "print(f'average is : {avg}')"
   ]
  },
  {
   "cell_type": "code",
   "execution_count": 23,
   "id": "724b9216-3aac-42bd-aef3-6b76d24d13f0",
   "metadata": {},
   "outputs": [
    {
     "name": "stdout",
     "output_type": "stream",
     "text": [
      "1 2 3 4 5 \n",
      "printed value range 1 to 5\n"
     ]
    }
   ],
   "source": [
    "# for else statement\n",
    "\n",
    "for i in range(1, 6):\n",
    "    print(i, end=\" \")\n",
    "else :\n",
    "    print('\\nprinted value range 1 to 5')"
   ]
  },
  {
   "cell_type": "code",
   "execution_count": 30,
   "id": "1ed3bf02-fc36-45ff-b113-3ad5564b2d54",
   "metadata": {},
   "outputs": [
    {
     "name": "stdin",
     "output_type": "stream",
     "text": [
      "enter a number :  5\n"
     ]
    },
    {
     "name": "stdout",
     "output_type": "stream",
     "text": [
      "your entered number is : 5\n",
      "\n",
      "*\n",
      "**\n",
      "***\n",
      "****\n",
      "*****"
     ]
    }
   ],
   "source": [
    "# nested for loop\n",
    "\n",
    "num = int(input('enter a number : '))\n",
    "\n",
    "print(f'your entered number is : {num}')\n",
    "\n",
    "i, j = 0, 0\n",
    "\n",
    "for i in range(0, num):\n",
    "    print()\n",
    "    for j in range(0, i+1):\n",
    "        print('*', end='')\n",
    "    # print('\\n')"
   ]
  },
  {
   "cell_type": "code",
   "execution_count": 35,
   "id": "72210ae8-6c56-49af-9f5b-3ee1188641f1",
   "metadata": {},
   "outputs": [
    {
     "name": "stdout",
     "output_type": "stream",
     "text": [
      "1 3 5 7 9 "
     ]
    }
   ],
   "source": [
    "# continue in for loop\n",
    "\n",
    "# let's take a list\n",
    "\n",
    "lst = [1, 2, 3, 4, 5, 6, 7, 8, 9, 10]\n",
    "\n",
    "for i in lst:\n",
    "    if i%2 == 0: # program will skip all even numbers\n",
    "        continue\n",
    "    print(i, end=' ')"
   ]
  },
  {
   "cell_type": "code",
   "execution_count": 36,
   "id": "c783d980-298d-4b02-aec9-406b9d770592",
   "metadata": {},
   "outputs": [
    {
     "name": "stdout",
     "output_type": "stream",
     "text": [
      "1 2 3 4 5 "
     ]
    }
   ],
   "source": [
    "# break in for loop\n",
    "\n",
    "for i in lst:\n",
    "    if i == 6: # program will break at 6\n",
    "        break\n",
    "    print(i, end=' ')"
   ]
  },
  {
   "cell_type": "markdown",
   "id": "1d8fbc30-0b0d-44e3-b48d-a2f9140aaae5",
   "metadata": {},
   "source": [
    "# While loop\n"
   ]
  },
  {
   "cell_type": "code",
   "execution_count": 37,
   "id": "06303674-c6df-4fca-96ae-fc03d69f8373",
   "metadata": {},
   "outputs": [
    {
     "name": "stdout",
     "output_type": "stream",
     "text": [
      "5 4 3 2 1 "
     ]
    }
   ],
   "source": [
    "# let's code for while loop\n",
    "\n",
    "i = 5\n",
    "while i != 0:\n",
    "    print(i, end=' ')\n",
    "    i-=1\n",
    "    "
   ]
  },
  {
   "cell_type": "code",
   "execution_count": 39,
   "id": "6e616a7b-c7d1-43ad-9104-176b33b91402",
   "metadata": {},
   "outputs": [
    {
     "name": "stdout",
     "output_type": "stream",
     "text": [
      "8.0\n",
      "7.5\n",
      "There is only 2 movie rating, because the loop stops when it meets with the number lower than 6.\n"
     ]
    }
   ],
   "source": [
    "# Print the movie ratings gretater than 6.\n",
    "movie_rating = [8.0, 7.5, 5.4, 9.1, 6.3, 6.5, 2.1, 4.8, 3.3]\n",
    "index = 0\n",
    "rating = movie_rating[0]\n",
    "while rating>=6:\n",
    "    print(rating)\n",
    "    index += 1\n",
    "    rating = movie_rating[index]\n",
    "print('There is only', index, 'movie rating, because the loop stops when it meets with the number lower than 6.')\n"
   ]
  },
  {
   "cell_type": "code",
   "execution_count": 40,
   "id": "c2c12c72-19ff-4f84-a59f-d1e72162d093",
   "metadata": {},
   "outputs": [
    {
     "name": "stdout",
     "output_type": "stream",
     "text": [
      "0 1 2 3 4 5 it gives the numbers between 0 to 5\n"
     ]
    }
   ],
   "source": [
    "# while - else statement\n",
    "\n",
    "index = 0\n",
    "while index <= 5:\n",
    "    print(index, end=' ')\n",
    "    index += 1\n",
    "else:\n",
    "    print('it gives the numbers between 0 to 5')"
   ]
  },
  {
   "cell_type": "code",
   "execution_count": 42,
   "id": "63f0b822-7b11-4898-b09d-bdf530557b22",
   "metadata": {},
   "outputs": [
    {
     "name": "stdout",
     "output_type": "stream",
     "text": [
      "0 1 2 3 4 5 "
     ]
    }
   ],
   "source": [
    "# continue in while loop\n",
    "\n",
    "i = 0\n",
    "while i<=5:\n",
    "    print(i, end=' ')\n",
    "    i+=1\n",
    "    if i == 3:\n",
    "        continue"
   ]
  },
  {
   "cell_type": "code",
   "execution_count": null,
   "id": "625ad4bc-2e4a-4669-85e0-04e32b450d85",
   "metadata": {},
   "outputs": [],
   "source": []
  }
 ],
 "metadata": {
  "kernelspec": {
   "display_name": "Python 3 (ipykernel)",
   "language": "python",
   "name": "python3"
  },
  "language_info": {
   "codemirror_mode": {
    "name": "ipython",
    "version": 3
   },
   "file_extension": ".py",
   "mimetype": "text/x-python",
   "name": "python",
   "nbconvert_exporter": "python",
   "pygments_lexer": "ipython3",
   "version": "3.10.4"
  }
 },
 "nbformat": 4,
 "nbformat_minor": 5
}
