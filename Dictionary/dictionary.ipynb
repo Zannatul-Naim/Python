{
 "cells": [
  {
   "cell_type": "markdown",
   "id": "e0d12513-4705-49bc-8347-6cf5875783a0",
   "metadata": {},
   "source": [
    "# Dictionary in python\n",
    "\n",
    "Python dictionary data structure. \n",
    " - The dictionary data structure in python is used to store an unordered collection of key-velue pairs\n",
    " - The dictionary in python is like the map of java and c++. "
   ]
  },
  {
   "cell_type": "code",
   "execution_count": 19,
   "id": "72256b20-dbcf-44ec-bfb3-9af721c26d9e",
   "metadata": {},
   "outputs": [
    {
     "name": "stdout",
     "output_type": "stream",
     "text": [
      "{'key1': 'value1', 'key2': 'value2'}\n"
     ]
    }
   ],
   "source": [
    "# Let's create a dictionary\n",
    "\n",
    "d = {'key1': 'value1', 'key2': 'value2'}\n",
    "print(d)\n",
    "\n",
    "# the dey and value of a peir can be any primitive or user-defined type but\n",
    "# each key in a dicitonary should be unique"
   ]
  },
  {
   "cell_type": "markdown",
   "id": "6c9657be-a03e-4479-90b5-ce9720924fcd",
   "metadata": {},
   "source": [
    "# Properties\n",
    "\n",
    " - mutable : the value for a key can be modified but not the vice-versa in the dictionary\n",
    " - dynamic : adding, removing from dictionary are allowed .\n",
    " \n",
    " However, unlike the list, the dictionary is not indexed. can't access it's items by position (via indexing) but via keys as follows:"
   ]
  },
  {
   "cell_type": "code",
   "execution_count": 11,
   "id": "090523e4-fb5e-4be0-948a-d1aade81df40",
   "metadata": {},
   "outputs": [
    {
     "name": "stdout",
     "output_type": "stream",
     "text": [
      "naim\n",
      "20\n"
     ]
    }
   ],
   "source": [
    "# Let's code\n",
    "\n",
    "d = {'name': 'naim', 'age': '20'}\n",
    "print(d['name'])\n",
    "print(d['age'])"
   ]
  },
  {
   "cell_type": "markdown",
   "id": "65f6fd42-e3e5-4516-87ab-3d05a1de9c13",
   "metadata": {},
   "source": [
    "# How to create a dictionary in Python\n",
    "\n",
    "## There are two ways to create dicitonary in python\n",
    "\n",
    " - Using curly braces {}\n",
    " - Using dict() constructor\n",
    " \n",
    "To create a dictionary using {}, we have to write the key-value pairs separeted by comma inside it."
   ]
  },
  {
   "cell_type": "code",
   "execution_count": 12,
   "id": "052a80d9-78a2-4c2c-b071-295f008ae580",
   "metadata": {},
   "outputs": [
    {
     "data": {
      "text/plain": [
       "{'name': 'naim', 'language': 'C/C++'}"
      ]
     },
     "execution_count": 12,
     "metadata": {},
     "output_type": "execute_result"
    }
   ],
   "source": [
    "d = {'name': 'naim', 'language': 'C/C++'}\n",
    "d"
   ]
  },
  {
   "cell_type": "markdown",
   "id": "ebffb005-59a9-4beb-8094-2a5bd653e68a",
   "metadata": {},
   "source": [
    "To create a dictionary using the dict() constructor pass the key-value pairs as keyword arguments to the constructor"
   ]
  },
  {
   "cell_type": "code",
   "execution_count": 14,
   "id": "2c0d36aa-8292-4135-830d-204761c48d7a",
   "metadata": {},
   "outputs": [
    {
     "name": "stdout",
     "output_type": "stream",
     "text": [
      "{'name': 'naim', 'age': 20}\n"
     ]
    }
   ],
   "source": [
    "d = dict(name = 'naim', age = 20)\n",
    "print(d)"
   ]
  },
  {
   "cell_type": "markdown",
   "id": "88c49e7d-a965-4427-82bc-a2621968a453",
   "metadata": {},
   "source": [
    "### The dict() constructor also accepts iterables such as a list. So, it we pass a list ot tuples as a parameter, it will create a dictionary"
   ]
  },
  {
   "cell_type": "code",
   "execution_count": 20,
   "id": "f052888f-afa0-4679-a760-d4f14b8ce1f4",
   "metadata": {},
   "outputs": [
    {
     "name": "stdout",
     "output_type": "stream",
     "text": [
      "{1: 5, 3: 90}\n"
     ]
    }
   ],
   "source": [
    "d = dict([(1, 2), (1, 5), (3, 20), (3, 90)])\n",
    "print(d) # last assigned value will be stay in key value\n",
    "\n",
    "# The drawback of using dict() constructor is that the type of the dictionary is always string"
   ]
  },
  {
   "cell_type": "markdown",
   "id": "bffa7eb8-942c-4791-8721-cafa1afa4f5d",
   "metadata": {},
   "source": [
    "## Accessing values"
   ]
  },
  {
   "cell_type": "code",
   "execution_count": 24,
   "id": "5ed3f690-151d-47fa-ab15-dcaf593d137e",
   "metadata": {},
   "outputs": [
    {
     "name": "stdout",
     "output_type": "stream",
     "text": [
      "5\n",
      "Naim\n",
      "5\n",
      "Naim\n",
      "None\n"
     ]
    },
    {
     "ename": "KeyError",
     "evalue": "'naem'",
     "output_type": "error",
     "traceback": [
      "\u001b[1;31m---------------------------------------------------------------------------\u001b[0m",
      "\u001b[1;31mKeyError\u001b[0m                                  Traceback (most recent call last)",
      "Cell \u001b[1;32mIn [24], line 14\u001b[0m\n\u001b[0;32m     10\u001b[0m \u001b[38;5;66;03m# the difference between these two methods of accessing values is that the [] thwrows an error if \u001b[39;00m\n\u001b[0;32m     11\u001b[0m \u001b[38;5;66;03m# the key doesn't exist in the dictionary whereas the get() method returns \"None\" for the same\u001b[39;00m\n\u001b[0;32m     13\u001b[0m \u001b[38;5;28mprint\u001b[39m(d\u001b[38;5;241m.\u001b[39mget(\u001b[38;5;124m'\u001b[39m\u001b[38;5;124mnaem\u001b[39m\u001b[38;5;124m'\u001b[39m))\n\u001b[1;32m---> 14\u001b[0m \u001b[38;5;28mprint\u001b[39m(\u001b[43md\u001b[49m\u001b[43m[\u001b[49m\u001b[38;5;124;43m'\u001b[39;49m\u001b[38;5;124;43mnaem\u001b[39;49m\u001b[38;5;124;43m'\u001b[39;49m\u001b[43m]\u001b[49m)\n",
      "\u001b[1;31mKeyError\u001b[0m: 'naem'"
     ]
    }
   ],
   "source": [
    "d = {'name': 'Naim', 'id': 5}\n",
    "\n",
    "print(d['id'])\n",
    "print(d['name'])\n",
    "\n",
    "# access using get method\n",
    "print(d.get('id'))\n",
    "print(d.get('name'))\n",
    "\n",
    "# the difference between these two methods of accessing values is that the [] thwrows an error if \n",
    "# the key doesn't exist in the dictionary whereas the get() method returns \"None\" for the same\n",
    "\n",
    "print(d.get('naem'))\n",
    "print(d['naem'])"
   ]
  },
  {
   "cell_type": "markdown",
   "id": "f6dbdf19-7787-42dc-8484-8cedd0e20d82",
   "metadata": {},
   "source": [
    "# Modifying existing values"
   ]
  },
  {
   "cell_type": "code",
   "execution_count": 30,
   "id": "c5ff410d-94d7-49ac-81a5-103b6fdad30e",
   "metadata": {},
   "outputs": [
    {
     "name": "stdout",
     "output_type": "stream",
     "text": [
      "student\n",
      "studying\n",
      "{'name': 'zannatul naim', 'proff': 'studying'}\n"
     ]
    }
   ],
   "source": [
    "d = {'name': 'naim', 'proff' : 'student'}\n",
    "\n",
    "print(d['proff'])\n",
    "d['proff'] = 'studying'\n",
    "print(d['proff'])\n",
    "\n",
    "# modify using update() function\n",
    "\n",
    "d.update({'name': 'zannatul naim'})\n",
    "print(d)"
   ]
  },
  {
   "cell_type": "markdown",
   "id": "1fa9fe76-4e3c-4578-8eb6-e29605e4b7e3",
   "metadata": {},
   "source": [
    "# add() or remove()"
   ]
  },
  {
   "cell_type": "code",
   "execution_count": 35,
   "id": "753e5de7-f1e7-405c-bfd7-e95b1e45a7bc",
   "metadata": {},
   "outputs": [
    {
     "name": "stdout",
     "output_type": "stream",
     "text": [
      "5\n",
      "{1: 2, 2: 3, 3: 4, 4: 5}\n",
      "{1: 2, 2: 3, 3: 4, 4: 5, 5: 6}\n",
      "{1: 2, 2: 3, 3: 4, 4: 5}\n"
     ]
    }
   ],
   "source": [
    "d = {1:2, 2:3, 3:4, 4:5}\n",
    "\n",
    "print(d[4])\n",
    "print(d)\n",
    "\n",
    "d[5] = 6\n",
    "\n",
    "print(d)\n",
    "\n",
    "# del\n",
    "\n",
    "del d[5]\n",
    "print(d)"
   ]
  },
  {
   "cell_type": "code",
   "execution_count": 45,
   "id": "e2d80df6-b3c8-4dfc-9378-85798d6645cc",
   "metadata": {},
   "outputs": [
    {
     "name": "stdout",
     "output_type": "stream",
     "text": [
      "5\n",
      "{1: 2, 2: 3, 3: 4}\n"
     ]
    }
   ],
   "source": [
    "d = {1:2, 2:3, 3:4, 4:5}\n",
    "\n",
    "\n",
    "# pop function to remove specific item\n",
    "temp = d.pop(4)\n",
    "print(temp)\n",
    "\n",
    "print(d)"
   ]
  },
  {
   "cell_type": "markdown",
   "id": "1e46b54f-fbd0-46bb-83d3-a6a99e8c375e",
   "metadata": {},
   "source": [
    "# Iterate through dictionary"
   ]
  },
  {
   "cell_type": "code",
   "execution_count": 40,
   "id": "2e340da3-71c4-4712-972e-86f1a9fc618b",
   "metadata": {},
   "outputs": [
    {
     "name": "stdout",
     "output_type": "stream",
     "text": [
      "full_name  :  zannatul naim\n",
      "age  :  20\n",
      "location  :  Bangladesh\n"
     ]
    }
   ],
   "source": [
    "d = {'full_name': 'zannatul naim', 'age': 20, 'location': 'Bangladesh'}\n",
    "\n",
    "for key, value in d.items():\n",
    "    print(key, ' : ', value)"
   ]
  },
  {
   "cell_type": "markdown",
   "id": "b478e6f7-3920-4b63-9f2c-f21202cdaf7c",
   "metadata": {},
   "source": [
    "# Nested Dictionary\n",
    "\n",
    "A nested dictionary is a dictionary inside a dictionary. Python allows to nest the dictionary data structure inside of the other one.\n",
    "\n",
    "For example, in the following dictionary, the dog key has a value of type dictionary:"
   ]
  },
  {
   "cell_type": "code",
   "execution_count": 42,
   "id": "883721a9-7e92-4ccc-ac27-1bf2a038e891",
   "metadata": {},
   "outputs": [
    {
     "name": "stdout",
     "output_type": "stream",
     "text": [
      "{'breath': 'true', 'dog': {'legs': 4}}\n",
      "{'legs': 4}\n"
     ]
    }
   ],
   "source": [
    "animal = {'breath' : 'true', 'dog': {'legs': 4}}\n",
    "print(animal)\n",
    "print(animal['dog'])"
   ]
  },
  {
   "cell_type": "markdown",
   "id": "67ddffae-fa0a-419a-96a6-1e1c2cb23732",
   "metadata": {},
   "source": [
    "Dictionary Methods\n",
    "\n",
    "The dictionary data structure in Python comes with a number of inbuilt functions. These functions are useful in performing certain tasks such as updating or deleting items from the dictionary.\n",
    "\n",
    "Some of the methods names and their corresponding task are as follows:\n",
    "```\n",
    "    update({‘key’: ‘new_value’}) – Update the current ‘value’ of ‘key’ with ‘new_value’.\n",
    "    get(‘key’) – returns the value corresponding to the ‘key’.\n",
    "    items() – returns dictionary as list of tuples.\n",
    "    pop(‘key’) – removes the key:value pair from the dictionary.\n",
    "    keys() – returns list of keys present in the dictionary.\n",
    "    values() – returns list of values present in the dictionary.\n",
    "    clear() – empties the dictionary.\n",
    "    ```"
   ]
  },
  {
   "cell_type": "code",
   "execution_count": 43,
   "id": "6845234f-e08c-4544-9c57-900e89fb151a",
   "metadata": {},
   "outputs": [
    {
     "name": "stdout",
     "output_type": "stream",
     "text": [
      "{'breath': 'true', 'dog': {'legs': 4}}\n",
      "{}\n"
     ]
    }
   ],
   "source": [
    "# Clear in dictionary\n",
    "\n",
    "animal = {'breath' : 'true', 'dog': {'legs': 4}}\n",
    "\n",
    "print(animal)\n",
    "\n",
    "animal.clear()\n",
    "print(animal)"
   ]
  },
  {
   "cell_type": "code",
   "execution_count": 44,
   "id": "fbb93b8c-44bd-452e-8fe5-d0988aeec36e",
   "metadata": {},
   "outputs": [
    {
     "name": "stdout",
     "output_type": "stream",
     "text": [
      "{'name': 'naim', 'age': 20}\n",
      "{'name': 'naim', 'age': 20}\n"
     ]
    }
   ],
   "source": [
    "s_origin = {'name': 'naim', 'age':20}\n",
    "\n",
    "s_copy = s_origin\n",
    "\n",
    "print(s_origin)\n",
    "print(s_copy)"
   ]
  },
  {
   "cell_type": "code",
   "execution_count": 47,
   "id": "fea2bdce-ae1a-4de5-b5b9-8703f97d9b57",
   "metadata": {},
   "outputs": [
    {
     "data": {
      "text/plain": [
       "dict_items([('Aspergillus niger', 'inulinase'), ('Saccharomyces cerevisiae', 'ethanol'), ('Scheffersomyces stipitis', 'ethanol'), ('Aspergillus sojae_1', 'mannanase'), ('Streptococcus zooepidemicus', 'hyaluronic acid'), ('Lactobacillus casei', 'lactic acid'), ('Aspergillus sojae_2', 'polygalacturonase')])"
      ]
     },
     "execution_count": 47,
     "metadata": {},
     "output_type": "execute_result"
    }
   ],
   "source": [
    "# items() function\n",
    "# it returns a list of key:value pairs in a dictionary. \n",
    "product = {'Aspergillus niger': 'inulinase', 'Saccharomyces cerevisiae': 'ethanol', \n",
    " 'Scheffersomyces stipitis': 'ethanol', 'Aspergillus sojae_1': 'mannanase', \n",
    " 'Streptococcus zooepidemicus': 'hyaluronic acid', 'Lactobacillus casei': 'lactic acid',\n",
    " 'Aspergillus sojae_2': 'polygalacturonase'}\n",
    "\n",
    "product.items()"
   ]
  },
  {
   "cell_type": "code",
   "execution_count": 50,
   "id": "fc7ff3f3-585f-4996-afc6-3a5aca582b87",
   "metadata": {},
   "outputs": [
    {
     "name": "stdout",
     "output_type": "stream",
     "text": [
      "Aspergillus niger\n",
      "Saccharomyces cerevisiae\n",
      "Scheffersomyces stipitis\n",
      "Aspergillus sojae_1\n",
      "Streptococcus zooepidemicus\n",
      "Lactobacillus casei\n",
      "Aspergillus sojae_2\n"
     ]
    }
   ],
   "source": [
    "for k in product:\n",
    "    print(k)"
   ]
  },
  {
   "cell_type": "code",
   "execution_count": 51,
   "id": "f9272f64-27bf-48ea-a9b7-4c43ce216cce",
   "metadata": {},
   "outputs": [
    {
     "name": "stdout",
     "output_type": "stream",
     "text": [
      "inulinase\n",
      "ethanol\n",
      "ethanol\n",
      "mannanase\n",
      "hyaluronic acid\n",
      "lactic acid\n",
      "polygalacturonase\n"
     ]
    }
   ],
   "source": [
    "for k in product.values():\n",
    "    print(k)"
   ]
  },
  {
   "cell_type": "code",
   "execution_count": 52,
   "id": "dc8079a9-0001-437f-b15d-cbc4f8a407f7",
   "metadata": {},
   "outputs": [
    {
     "name": "stdout",
     "output_type": "stream",
     "text": [
      "Aspergillus niger  :  inulinase\n",
      "Saccharomyces cerevisiae  :  ethanol\n",
      "Scheffersomyces stipitis  :  ethanol\n",
      "Aspergillus sojae_1  :  mannanase\n",
      "Streptococcus zooepidemicus  :  hyaluronic acid\n",
      "Lactobacillus casei  :  lactic acid\n",
      "Aspergillus sojae_2  :  polygalacturonase\n"
     ]
    }
   ],
   "source": [
    "for k, v in product.items():\n",
    "    print(k, ' : ', v)"
   ]
  },
  {
   "cell_type": "code",
   "execution_count": null,
   "id": "f5f32bd7-76e4-450d-9e5e-d7737bbe9fa0",
   "metadata": {},
   "outputs": [],
   "source": []
  }
 ],
 "metadata": {
  "kernelspec": {
   "display_name": "Python 3 (ipykernel)",
   "language": "python",
   "name": "python3"
  },
  "language_info": {
   "codemirror_mode": {
    "name": "ipython",
    "version": 3
   },
   "file_extension": ".py",
   "mimetype": "text/x-python",
   "name": "python",
   "nbconvert_exporter": "python",
   "pygments_lexer": "ipython3",
   "version": "3.10.4"
  }
 },
 "nbformat": 4,
 "nbformat_minor": 5
}
