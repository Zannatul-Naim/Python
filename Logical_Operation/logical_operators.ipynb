{
 "cells": [
  {
   "cell_type": "markdown",
   "id": "6364701e-81d3-4562-9481-eea0154fd56a",
   "metadata": {},
   "source": [
    "# Logical Operators"
   ]
  },
  {
   "cell_type": "markdown",
   "id": "d4de02d1-5253-4021-bf87-383ecf7489d4",
   "metadata": {},
   "source": [
    "#### Comparison operators\n",
    "- The operators such as <, >, <=, >=, ==, != compare the certain two operands and return True of Fasle"
   ]
  },
  {
   "cell_type": "code",
   "execution_count": 6,
   "id": "e78f7911-bcae-4f88-a7d0-33eb6bc9ca68",
   "metadata": {},
   "outputs": [
    {
     "name": "stdout",
     "output_type": "stream",
     "text": [
      "a > b :  False\n",
      "a < b :  False\n",
      "a >= b :  True\n",
      "a <= b :  True\n",
      "a == b :  True\n",
      "a != b :  False\n"
     ]
    }
   ],
   "source": [
    "# Let's compare\n",
    "\n",
    "a = 3.14\n",
    "b = 3.14\n",
    "print('a > b : ', a>b)\n",
    "print('a < b : ', a<b)\n",
    "print('a >= b : ', a>=b)\n",
    "print('a <= b : ', a<=b)\n",
    "print('a == b : ', a==b)\n",
    "print('a != b : ', a!= b)"
   ]
  },
  {
   "cell_type": "code",
   "execution_count": 7,
   "id": "a3ab87d8-8914-48b7-8775-aee30066d0f9",
   "metadata": {},
   "outputs": [
    {
     "name": "stdout",
     "output_type": "stream",
     "text": [
      "a > b :  True\n",
      "a < b :  False\n",
      "a >= b :  True\n",
      "a <= b :  False\n",
      "a == b :  False\n",
      "a != b :  True\n"
     ]
    }
   ],
   "source": [
    "# Let's compare\n",
    "\n",
    "a = 3.14\n",
    "b = 2.14\n",
    "print('a > b : ', a>b)\n",
    "print('a < b : ', a<b)\n",
    "print('a >= b : ', a>=b)\n",
    "print('a <= b : ', a<=b)\n",
    "print('a == b : ', a==b)\n",
    "print('a != b : ', a!= b)"
   ]
  },
  {
   "cell_type": "markdown",
   "id": "122f4eb6-15c0-48d7-a7af-334daba11c28",
   "metadata": {},
   "source": [
    "## Logical Operators\n",
    " - The operators including 'and' 'or', 'not' are utilized to bring two conditions together and assess them output returns True or False"
   ]
  },
  {
   "cell_type": "code",
   "execution_count": 17,
   "id": "d1752072-10ec-4f46-be7f-557e119d05a2",
   "metadata": {},
   "outputs": [
    {
     "name": "stdout",
     "output_type": "stream",
     "text": [
      "False\n",
      "True\n",
      "False\n",
      "True\n",
      "False\n",
      "False\n",
      "True\n"
     ]
    }
   ],
   "source": [
    "a = 3.14\n",
    "b = 2.14\n",
    "\n",
    "c = 12\n",
    "d = 89\n",
    "\n",
    "e = float(2.00)\n",
    "f = int(2)\n",
    "\n",
    "print(a>b and b>c)\n",
    "print(a>b or b>c)\n",
    "print(a<b or b>c)\n",
    "print(a>b and c>b)\n",
    "\n",
    "print(e>f)\n",
    "print(e<f)\n",
    "print(e == f)"
   ]
  },
  {
   "cell_type": "markdown",
   "id": "f7f400b7-8d8b-4238-ac80-f7a78ca1588a",
   "metadata": {},
   "source": [
    "## Assignment operators\n",
    "  - The operators including =, +=, -=, /=, *=, //=, %=, ^=, >>=, <<=, |=, &= are employed to evaluate of a value to varible"
   ]
  },
  {
   "cell_type": "code",
   "execution_count": 23,
   "id": "44e8282f-07fd-4b9f-a0ce-625477e7c903",
   "metadata": {},
   "outputs": [
    {
     "name": "stdout",
     "output_type": "stream",
     "text": [
      "14.99\n",
      "10.99\n",
      "10\n",
      "2\n",
      "1.0\n",
      "8\n"
     ]
    }
   ],
   "source": [
    "# Let's code\n",
    "\n",
    "x = 9.99\n",
    "x+=5\n",
    "print(x)\n",
    "\n",
    "x -=4\n",
    "print(x)\n",
    "\n",
    "x = int(x)\n",
    "print(x)\n",
    "\n",
    "# module operation\n",
    "x %= 4\n",
    "print(x)\n",
    "\n",
    "# divide operation\n",
    "x /= 2\n",
    "print(x)\n",
    "\n",
    "# exponentiation operation\n",
    "\n",
    "x = 2\n",
    "x **= 3\n",
    "print(x)"
   ]
  },
  {
   "cell_type": "markdown",
   "id": "37a3df66-93c2-4807-bf77-b5026cc141f4",
   "metadata": {},
   "source": [
    "## Identity operators\n",
    " - The operators 'is' and 'is not' are emloyed to control if the operands or objects to the left and right operator are referring to a value stored in the same memory locatin and returns True or False"
   ]
  },
  {
   "cell_type": "code",
   "execution_count": 25,
   "id": "968aac83-d6f6-482f-874b-7c12a0e0a6e4",
   "metadata": {},
   "outputs": [
    {
     "name": "stdout",
     "output_type": "stream",
     "text": [
      "False\n",
      "True\n",
      "False\n",
      "True\n",
      "False\n",
      "True\n"
     ]
    }
   ],
   "source": [
    "a = 4.44\n",
    "b = 3.44\n",
    "print(a is b)\n",
    "\n",
    "b = a\n",
    "print(a is b)\n",
    "\n",
    "b = 4.44\n",
    "print(a is b)\n",
    "print(a is not b)\n",
    "\n",
    "list1 = [3.14, 1.618]\n",
    "list2 = [3.14, 1.618]\n",
    "print(list1 is list2) # also use in a list behaviour\n",
    "print(list1 is not list2)"
   ]
  },
  {
   "cell_type": "markdown",
   "id": "83d478cb-3cfb-4148-b679-28d327a7a7f4",
   "metadata": {},
   "source": [
    "## Membership operators\n",
    " - These operators including 'in' and 'not in' are employed to chedk if the cerain Value is available in the same sequence of values and return True or False"
   ]
  },
  {
   "cell_type": "code",
   "execution_count": 28,
   "id": "6a2679c4-48dd-4d83-b5dc-948e3fbbc652",
   "metadata": {},
   "outputs": [
    {
     "name": "stdout",
     "output_type": "stream",
     "text": [
      "False\n",
      "True\n",
      "True\n",
      "True\n"
     ]
    }
   ],
   "source": [
    "# Let's code \n",
    "# Take a list\n",
    "\n",
    "lst = [1, 2, 3, 4, 'naim', (5, 6), {'name':'naim'}]\n",
    "print(5 in lst)\n",
    "print(4 in lst)\n",
    "print(5 not in lst)\n",
    "\n",
    "print((5, 6) in lst)"
   ]
  },
  {
   "cell_type": "code",
   "execution_count": null,
   "id": "a681d6b7-a734-4e92-b790-acb01baf5450",
   "metadata": {},
   "outputs": [],
   "source": []
  }
 ],
 "metadata": {
  "kernelspec": {
   "display_name": "Python 3 (ipykernel)",
   "language": "python",
   "name": "python3"
  },
  "language_info": {
   "codemirror_mode": {
    "name": "ipython",
    "version": 3
   },
   "file_extension": ".py",
   "mimetype": "text/x-python",
   "name": "python",
   "nbconvert_exporter": "python",
   "pygments_lexer": "ipython3",
   "version": "3.10.4"
  }
 },
 "nbformat": 4,
 "nbformat_minor": 5
}
