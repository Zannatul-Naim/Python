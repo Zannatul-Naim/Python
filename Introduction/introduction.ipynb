{
 "cells": [
  {
   "cell_type": "code",
   "execution_count": 1,
   "id": "6fbd425a-459b-4792-914b-0352b16abb65",
   "metadata": {},
   "outputs": [
    {
     "name": "stdout",
     "output_type": "stream",
     "text": [
      "Hello World!\n",
      "Hello python\n"
     ]
    }
   ],
   "source": [
    "# First python output with 'print' function\n",
    "print(\"Hello World!\")\n",
    "print(\"Hello python\")"
   ]
  },
  {
   "cell_type": "code",
   "execution_count": 2,
   "id": "9ba72b48-138c-4ccd-a439-67d7d2fb7691",
   "metadata": {},
   "outputs": [
    {
     "name": "stdout",
     "output_type": "stream",
     "text": [
      "3.10.4 (tags/v3.10.4:9d38120, Mar 23 2022, 23:13:41) [MSC v.1929 64 bit (AMD64)]\n",
      "3.10\n",
      "<built-in function gettrace>\n",
      "['C:\\\\Users\\\\HP\\\\AppData\\\\Local\\\\Programs\\\\Python\\\\Python310\\\\lib\\\\site-packages\\\\ipykernel_launcher.py', '-f', 'C:\\\\Users\\\\HP\\\\AppData\\\\Roaming\\\\jupyter\\\\runtime\\\\kernel-07fb9377-3823-4ed6-a322-5897f12205fd.json']\n"
     ]
    }
   ],
   "source": [
    "# Python version Check\n",
    "\n",
    "import sys\n",
    "print(sys.version)  # version Control\n",
    "print(sys.winver)   # version number of the Python DLL [Windows only]\n",
    "print(sys.gettrace)  # get the global debug tracing function\n",
    "print(sys.argv)  # keeps the parameters used while running the pgorgram we wrote in a list\n"
   ]
  },
  {
   "cell_type": "code",
   "execution_count": 4,
   "id": "7e310ea5-275a-4920-9ae6-4df097765eb2",
   "metadata": {},
   "outputs": [
    {
     "name": "stdout",
     "output_type": "stream",
     "text": [
      "Hello python!\n",
      "hello\n"
     ]
    }
   ],
   "source": [
    "# To write a comment use '#' symbol for it.\n",
    "\n",
    "print(\"Hello python!\") # Comment: This line prints a string 'hello python!'\n",
    "# To print 'hello' in the console\n",
    "print('hello')"
   ]
  },
  {
   "cell_type": "code",
   "execution_count": 5,
   "id": "268b6d38-fb42-4a86-af7b-c0760b88f86b",
   "metadata": {},
   "outputs": [
    {
     "ename": "NameError",
     "evalue": "name 'Print' is not defined",
     "output_type": "error",
     "traceback": [
      "\u001b[1;31m---------------------------------------------------------------------------\u001b[0m",
      "\u001b[1;31mNameError\u001b[0m                                 Traceback (most recent call last)",
      "Cell \u001b[1;32mIn [5], line 5\u001b[0m\n\u001b[0;32m      1\u001b[0m \u001b[38;5;66;03m# Errors in python\u001b[39;00m\n\u001b[0;32m      2\u001b[0m \n\u001b[0;32m      3\u001b[0m \u001b[38;5;66;03m# Print string as erros message\u001b[39;00m\n\u001b[1;32m----> 5\u001b[0m \u001b[43mPrint\u001b[49m(\u001b[38;5;124m\"\u001b[39m\u001b[38;5;124mhello python!\u001b[39m\u001b[38;5;124m\"\u001b[39m)\n",
      "\u001b[1;31mNameError\u001b[0m: name 'Print' is not defined"
     ]
    }
   ],
   "source": [
    "# Errors in python\n",
    "\n",
    "# Print string as erros message\n",
    "\n",
    "Print(\"hello python!\")"
   ]
  },
  {
   "cell_type": "code",
   "execution_count": 6,
   "id": "75790284-c167-4be9-aa66-6d761faffcb7",
   "metadata": {},
   "outputs": [
    {
     "name": "stdout",
     "output_type": "stream",
     "text": [
      "this line will be printed\n"
     ]
    },
    {
     "ename": "NameError",
     "evalue": "name 'frint' is not defined",
     "output_type": "error",
     "traceback": [
      "\u001b[1;31m---------------------------------------------------------------------------\u001b[0m",
      "\u001b[1;31mNameError\u001b[0m                                 Traceback (most recent call last)",
      "Cell \u001b[1;32mIn [6], line 4\u001b[0m\n\u001b[0;32m      1\u001b[0m \u001b[38;5;66;03m# Print both string and error to see the running order\u001b[39;00m\n\u001b[0;32m      3\u001b[0m \u001b[38;5;28mprint\u001b[39m(\u001b[38;5;124m\"\u001b[39m\u001b[38;5;124mthis line will be printed\u001b[39m\u001b[38;5;124m\"\u001b[39m)\n\u001b[1;32m----> 4\u001b[0m \u001b[43mfrint\u001b[49m(\u001b[38;5;124m\"\u001b[39m\u001b[38;5;124mthis line have an error\u001b[39m\u001b[38;5;124m\"\u001b[39m) \u001b[38;5;66;03m# Program destroyed from here\u001b[39;00m\n\u001b[0;32m      5\u001b[0m \u001b[38;5;28mprint\u001b[39m(\u001b[38;5;124m\"\u001b[39m\u001b[38;5;124mthis line will not be printed\u001b[39m\u001b[38;5;124m\"\u001b[39m)\n",
      "\u001b[1;31mNameError\u001b[0m: name 'frint' is not defined"
     ]
    }
   ],
   "source": [
    "# Print both string and error to see the running order\n",
    "\n",
    "print(\"this line will be printed\")\n",
    "frint(\"this line have an error\") # Program destroyed from here\n",
    "print(\"this line will not be printed\") # this line will not executed\n"
   ]
  },
  {
   "cell_type": "code",
   "execution_count": 8,
   "id": "cd61b356-4550-4d84-886c-ad1690db093b",
   "metadata": {},
   "outputs": [
    {
     "name": "stdout",
     "output_type": "stream",
     "text": [
      "Hello World!\n",
      "12\n",
      "3.1416\n",
      "True\n",
      "False\n",
      "True\n",
      "False\n",
      "True\n",
      "True\n"
     ]
    }
   ],
   "source": [
    "# Basic Data Types in Python\n",
    "\n",
    "#String\n",
    "print(\"Hello World!\") # Hello World!\n",
    "\n",
    "#Integer\n",
    "print(12) # 12\n",
    "\n",
    "#Float\n",
    "print(3.1416) # 3.1416\n",
    "\n",
    "#Boolean\n",
    "print(True) #True\n",
    "print(False) #False\n",
    "\n",
    "print(bool(1)) #True\n",
    "print(bool(0)) #False\n",
    "print(bool(5)) #True\n",
    "print(bool(-1)) #True"
   ]
  },
  {
   "cell_type": "code",
   "execution_count": 9,
   "id": "df13e621-bdda-4275-8233-5c802dce730a",
   "metadata": {},
   "outputs": [
    {
     "name": "stdout",
     "output_type": "stream",
     "text": [
      "<class 'str'>\n",
      "<class 'int'>\n",
      "<class 'int'>\n",
      "<class 'float'>\n",
      "<class 'float'>\n",
      "<class 'bool'>\n"
     ]
    }
   ],
   "source": [
    "# Types of Data Type:\n",
    "\n",
    "#String\n",
    "print(type(\"hello python\"))\n",
    "\n",
    "#Integer\n",
    "print(type(1))\n",
    "print(type(100))\n",
    "\n",
    "#Float\n",
    "print(type(1.23))\n",
    "print(type(0.11))\n",
    "\n",
    "#Boolean\n",
    "print(type(False))\n"
   ]
  },
  {
   "cell_type": "code",
   "execution_count": 10,
   "id": "f5949bf8-fef2-4fac-8796-c07d4e039341",
   "metadata": {},
   "outputs": [
    {
     "name": "stdout",
     "output_type": "stream",
     "text": [
      "sys.int_info(bits_per_digit=30, sizeof_digit=4)\n",
      "\n",
      "sys.float_info(max=1.7976931348623157e+308, max_exp=1024, max_10_exp=308, min=2.2250738585072014e-308, min_exp=-1021, min_10_exp=-307, dig=15, mant_dig=53, epsilon=2.220446049250313e-16, radix=2, rounds=1)\n"
     ]
    }
   ],
   "source": [
    "# To obtaiin the information about 'integer' and float\n",
    "\n",
    "print(sys.int_info)\n",
    "print()\n",
    "print(sys.float_info)"
   ]
  },
  {
   "cell_type": "code",
   "execution_count": 15,
   "id": "e254e2d0-026d-42e7-a88f-66032b3944ac",
   "metadata": {
    "scrolled": true,
    "tags": []
   },
   "outputs": [
    {
     "name": "stdout",
     "output_type": "stream",
     "text": [
      "6\n",
      "6\n",
      "6.0\n",
      "<class 'int'>\n",
      "<class 'str'>\n",
      "<class 'float'>\n"
     ]
    }
   ],
   "source": [
    "# Type Conversion\n",
    "\n",
    "number = 6\n",
    "print(number)\n",
    "print(str(number))\n",
    "print(float(number))\n",
    "print(type(number))\n",
    "print(type(str(number)))\n",
    "print(type(float(number)))\n"
   ]
  },
  {
   "cell_type": "code",
   "execution_count": 14,
   "id": "e900d713-4c93-48f0-aba8-130d5eed0342",
   "metadata": {},
   "outputs": [
    {
     "data": {
      "text/plain": [
       "'6'"
      ]
     },
     "execution_count": 14,
     "metadata": {},
     "output_type": "execute_result"
    }
   ],
   "source": [
    "str(number)"
   ]
  },
  {
   "cell_type": "code",
   "execution_count": 16,
   "id": "51262a3a-377f-4e3d-b01f-0eb0620da09d",
   "metadata": {},
   "outputs": [
    {
     "name": "stdout",
     "output_type": "stream",
     "text": [
      "4.55\n",
      "4.55\n",
      "4\n",
      "<class 'float'>\n",
      "<class 'str'>\n",
      "<class 'int'>\n"
     ]
    }
   ],
   "source": [
    "# Let's convert the float 4.55 to a string and an integer\n",
    "number = 4.55\n",
    "\n",
    "print(number)\n",
    "print(str(number))\n",
    "print(int(number))\n",
    "print(type(number))\n",
    "print(type(str(number)))\n",
    "print(type(int(number)))"
   ]
  },
  {
   "cell_type": "code",
   "execution_count": 17,
   "id": "fa228cf9-7a51-4fc4-b48c-0e83caef9440",
   "metadata": {},
   "outputs": [
    {
     "data": {
      "text/plain": [
       "'4.55'"
      ]
     },
     "execution_count": 17,
     "metadata": {},
     "output_type": "execute_result"
    }
   ],
   "source": [
    "str(number)"
   ]
  },
  {
   "cell_type": "code",
   "execution_count": 18,
   "id": "3381dcd6-8360-4c55-8b28-7769a676cf21",
   "metadata": {},
   "outputs": [
    {
     "name": "stdout",
     "output_type": "stream",
     "text": [
      "True\n",
      "False\n",
      "1\n",
      "0\n",
      "1.0\n",
      "0.0\n",
      "True\n",
      "False\n",
      "True\n",
      "False\n"
     ]
    }
   ],
   "source": [
    "# Let's convert the booleans to an integer, a float, and a string\n",
    "\n",
    "bool_1 = True\n",
    "bool_2 = False\n",
    "\n",
    "print(bool_1)\n",
    "print(bool_2)\n",
    "\n",
    "print(int(bool_1))\n",
    "print(int(bool_2))\n",
    "\n",
    "print(float(bool_1))\n",
    "print(float(bool_2))\n",
    "\n",
    "print(str(bool_1))\n",
    "print(str(bool_2))\n",
    "\n",
    "print(bool(1))\n",
    "print(bool(0))"
   ]
  },
  {
   "cell_type": "code",
   "execution_count": 19,
   "id": "37ae4a18-e2ab-4d37-a0ec-97313645dde3",
   "metadata": {},
   "outputs": [
    {
     "name": "stdout",
     "output_type": "stream",
     "text": [
      "2.0\n",
      "2.25\n",
      "<class 'float'>\n",
      "<class 'float'>\n",
      "2\n",
      "<class 'int'>\n"
     ]
    }
   ],
   "source": [
    "# Let's find the datay types of 6/3 and 9/4\n",
    "\n",
    "print(6/3)\n",
    "print(9/4)\n",
    "\n",
    "print(type(6/3))\n",
    "print(type(9/4))\n",
    "\n",
    "print(9//4) # integer division\n",
    "\n",
    "print(type(9//4))"
   ]
  },
  {
   "cell_type": "code",
   "execution_count": 28,
   "id": "57536ae6-3c25-474d-b287-2c3359ba96b0",
   "metadata": {},
   "outputs": [
    {
     "name": "stdout",
     "output_type": "stream",
     "text": [
      "322.88\n",
      "<class 'float'>\n",
      "71\n",
      "<class 'float'>\n",
      "30.0\n",
      "<class 'float'>\n",
      "33\n",
      "<class 'int'>\n",
      "10000\n",
      "<class 'int'>\n",
      "2\n",
      "<class 'int'>\n",
      "100\n",
      "<class 'int'>\n"
     ]
    }
   ],
   "source": [
    "# Expressions and variables\n",
    "\n",
    "#Addition\n",
    "\n",
    "sum = 34+90+90.90+23+8+76.98\n",
    "print(sum)\n",
    "print(type(sum))\n",
    "\n",
    "#Subtraction\n",
    "\n",
    "sub = 56-87+90+32-20\n",
    "print(sub)\n",
    "print(type(sum))\n",
    "\n",
    "#Division\n",
    "\n",
    "div = 90/3\n",
    "print(div)\n",
    "print(type(div))\n",
    "\n",
    "# Floor Division\n",
    "\n",
    "f_div = 100//3\n",
    "print(f_div)\n",
    "print(type(f_div))\n",
    "\n",
    "# Multiplication\n",
    "\n",
    "mul = 100*100\n",
    "print(mul)\n",
    "print(type(mul))\n",
    "\n",
    "# Modulus\n",
    "\n",
    "mod = 90%4\n",
    "print(mod)\n",
    "print(type(mod))\n",
    "\n",
    "# Exponentiation\n",
    "\n",
    "exp = 10**2\n",
    "print(exp)\n",
    "print(type(exp))"
   ]
  },
  {
   "cell_type": "code",
   "execution_count": 30,
   "id": "128a1fc4-b356-459e-8072-a02d295729f7",
   "metadata": {},
   "outputs": [
    {
     "name": "stdout",
     "output_type": "stream",
     "text": [
      "3600\n",
      "<class 'int'>\n",
      "8.533333333333333\n",
      "<class 'float'>\n"
     ]
    }
   ],
   "source": [
    "# An example: Let's calculate how many minutes there are in 60 hours?\n",
    "\n",
    "one_hour = 60  # 60 minutes\n",
    "given_hour = 60\n",
    "total_hour = one_hour * given_hour\n",
    "\n",
    "print(total_hour)\n",
    "print(type(total_hour))\n",
    "\n",
    "# An example : Let's calculate how many hours are in 512 minutes?\n",
    "\n",
    "given_minutes = 512\n",
    "total_hours = given_minutes/one_hour\n",
    "print(total_hours)\n",
    "print(type(total_hours))"
   ]
  },
  {
   "cell_type": "code",
   "execution_count": 31,
   "id": "a0a3cfa5-c4b4-49ec-a1f8-9ed8e35f767e",
   "metadata": {},
   "outputs": [
    {
     "data": {
      "text/plain": [
       "'Hello World!'"
      ]
     },
     "execution_count": 31,
     "metadata": {},
     "output_type": "execute_result"
    }
   ],
   "source": [
    "# Employ double quotation marks for describing a string\n",
    "\"Hello World!\""
   ]
  },
  {
   "cell_type": "code",
   "execution_count": 32,
   "id": "d3075486-3a00-413c-adb6-7ac397a658e1",
   "metadata": {},
   "outputs": [
    {
     "data": {
      "text/plain": [
       "'9876543210'"
      ]
     },
     "execution_count": 32,
     "metadata": {},
     "output_type": "execute_result"
    }
   ],
   "source": [
    "# Digits as string\n",
    "'9876543210'"
   ]
  },
  {
   "cell_type": "code",
   "execution_count": 33,
   "id": "176f503c-a777-4555-bcc4-1b0084080a2a",
   "metadata": {},
   "outputs": [
    {
     "name": "stdout",
     "output_type": "stream",
     "text": [
      "this is a string\n"
     ]
    }
   ],
   "source": [
    "# Assigning a string to a variable\n",
    "message = \"this is a string\"\n",
    "print(message)"
   ]
  },
  {
   "cell_type": "code",
   "execution_count": 34,
   "id": "ce0296bd-18eb-4e94-b194-2df72d1c70bb",
   "metadata": {},
   "outputs": [
    {
     "name": "stdout",
     "output_type": "stream",
     "text": [
      "a\n"
     ]
    }
   ],
   "source": [
    "# printing the element on index 8 in a string\n",
    "print(message[8])"
   ]
  },
  {
   "cell_type": "code",
   "execution_count": 35,
   "id": "293259b1-8e85-416f-9bc6-ea765de83ec4",
   "metadata": {},
   "outputs": [
    {
     "data": {
      "text/plain": [
       "16"
      ]
     },
     "execution_count": 35,
     "metadata": {},
     "output_type": "execute_result"
    }
   ],
   "source": [
    "# Length of the string\n",
    "\n",
    "len(message)"
   ]
  },
  {
   "cell_type": "code",
   "execution_count": 54,
   "id": "055af745-3e8a-4869-92ac-7f1cb22f14cf",
   "metadata": {},
   "outputs": [
    {
     "name": "stdout",
     "output_type": "stream",
     "text": [
      "4\n",
      "a\n",
      "m\n",
      "a\n",
      "naim\n",
      "ni\n",
      "nai\n",
      "naim\n"
     ]
    }
   ],
   "source": [
    "message = 'naim'\n",
    "print(len(message))\n",
    "print(message[1])\n",
    "print(message[-1])\n",
    "print(message[-3])\n",
    "\n",
    "# slicing on the variable 'message' with only 0 to index 4\n",
    "print(message[0:4])\n",
    "\n",
    "# to select every second element in the variable 'message'\n",
    "print(message[::2])\n",
    "\n",
    "print(message[:3])\n",
    "\n",
    "print(message[0:4:1])"
   ]
  },
  {
   "cell_type": "code",
   "execution_count": 55,
   "id": "cc84e08a-cbb1-4485-aaf7-14cc1ba68f44",
   "metadata": {},
   "outputs": [
    {
     "name": "stdout",
     "output_type": "stream",
     "text": [
      "Hello World\n"
     ]
    }
   ],
   "source": [
    "# Stirng concatenation\n",
    "\n",
    "message1 = \"Hello\"\n",
    "message2 = \" World\"\n",
    "\n",
    "message = message1 + message2 # concate using (+) operator\n",
    "print(message)"
   ]
  },
  {
   "cell_type": "code",
   "execution_count": 56,
   "id": "2d050dc8-75ea-4a9f-a179-78c1d35d9acf",
   "metadata": {},
   "outputs": [
    {
     "name": "stdout",
     "output_type": "stream",
     "text": [
      "Hello WorldHello WorldHello WorldHello WorldHello WorldHello WorldHello WorldHello WorldHello WorldHello World\n"
     ]
    }
   ],
   "source": [
    "# Printing a string n times\n",
    "\n",
    "n = 10\n",
    "print(message*n)"
   ]
  },
  {
   "cell_type": "code",
   "execution_count": 61,
   "id": "cc118362-4912-47d1-8678-8b13ffec292e",
   "metadata": {},
   "outputs": [
    {
     "name": "stdout",
     "output_type": "stream",
     "text": [
      "Hello world! \n",
      "How many people are living on the earth?\n",
      "Hello\tWorld\n",
      "Hello \\World\n",
      "Hello world \\n new line not work\n"
     ]
    }
   ],
   "source": [
    "# Escape sequences\n",
    "\n",
    "# New line escape sequence\n",
    "print(\"Hello world! \\nHow many people are living on the earth?\")\n",
    "\n",
    "# Tab scape sequence\n",
    "print(\"Hello\\tWorld\")\n",
    "\n",
    "# BackSlash escape sequence\n",
    "print(\"Hello \\\\World\")\n",
    "\n",
    "# r will say python that a string will be shown as a raw string\n",
    "print(r'Hello world \\n new line not work')"
   ]
  },
  {
   "cell_type": "code",
   "execution_count": 63,
   "id": "fdfbba9f-604c-4526-8031-7819f3fdfb82",
   "metadata": {},
   "outputs": [
    {
     "name": "stdout",
     "output_type": "stream",
     "text": [
      "Main string :  Naim\n",
      "name in upper :  NAIM\n",
      "name in lower :  naim\n",
      "The CamelCase string :  Naim\n"
     ]
    }
   ],
   "source": [
    "name = 'Naim'\n",
    "\n",
    "print('Main string : ', name)\n",
    "\n",
    "# Convert uppercase the elements in a string\n",
    "name_upper = name.upper()\n",
    "print('name in upper : ', name_upper)\n",
    "\n",
    "#convert lowercase the elements in a string\n",
    "name_lower = name.lower()\n",
    "print('name in lower : ', name_lower)\n",
    "\n",
    "# convert first letter of string uppercase\n",
    "name_title = name.title()\n",
    "print('The CamelCase string : ', name_title)"
   ]
  },
  {
   "cell_type": "code",
   "execution_count": 67,
   "id": "0a9c89a9-1fc3-4be4-91b3-29e6d877fbe3",
   "metadata": {},
   "outputs": [
    {
     "name": "stdout",
     "output_type": "stream",
     "text": [
      "zannatul main\n",
      "zannatul naim\n"
     ]
    }
   ],
   "source": [
    "# replace() method in string\n",
    "\n",
    "name = 'zannatul naim'\n",
    "name_without_naim = name.replace('naim', 'main')\n",
    "print(name_without_naim)\n",
    "print(name)"
   ]
  },
  {
   "cell_type": "code",
   "execution_count": 76,
   "id": "f9883cb2-d2b9-46cc-abdb-4891f3c94001",
   "metadata": {},
   "outputs": [
    {
     "name": "stdout",
     "output_type": "stream",
     "text": [
      "9\n",
      "-1\n"
     ]
    }
   ],
   "source": [
    "# find() method application a string\n",
    "\n",
    "name = 'Zannatul Naim'\n",
    "\n",
    "print(name.find('Naim'))\n",
    "\n",
    "# the output is the index number of the first element of the substirng\n",
    "\n",
    "# if can't find return's -1 \n",
    "print(name.find('x')) # x isn't available in the string"
   ]
  },
  {
   "cell_type": "code",
   "execution_count": 77,
   "id": "b423fb1d-29a5-443f-ac70-c98a9694746c",
   "metadata": {},
   "outputs": [
    {
     "data": {
      "text/plain": [
       "'___Zannatul Naim____'"
      ]
     },
     "execution_count": 77,
     "metadata": {},
     "output_type": "execute_result"
    }
   ],
   "source": [
    "# center() method will center align the string, using a specified chareacter (space is the defalult) as the fill character\n",
    "name = 'Naim'\n",
    "naim.center(20, '_')"
   ]
  },
  {
   "cell_type": "code",
   "execution_count": 79,
   "id": "3ea0a08c-b7b9-4d54-a636-88628ddbd299",
   "metadata": {},
   "outputs": [
    {
     "data": {
      "text/plain": [
       "5"
      ]
     },
     "execution_count": 79,
     "metadata": {},
     "output_type": "execute_result"
    }
   ],
   "source": [
    "# count() method returns the number of elements with the specified value\n",
    "text = 'naim naim naim main naim naim main'\n",
    "text.count('naim')"
   ]
  },
  {
   "cell_type": "code",
   "execution_count": 84,
   "id": "55744fa7-8764-4755-9573-1c52b831a3f2",
   "metadata": {},
   "outputs": [
    {
     "name": "stdout",
     "output_type": "stream",
     "text": [
      "zannatul naim\n",
      "Hi, My name is naim and i am 20 years old\n",
      "He, my name is naim and i am 20 years old\n",
      "Hi, my name is naim and i am 20 years old!\n"
     ]
    }
   ],
   "source": [
    "# format mehtod\n",
    "\n",
    "\"\"\"\n",
    "The format() method formats the specified value(s) and insert them inside the string's placeholder.\n",
    "the place holder is defined using curly brackets : {}.\n",
    "\"\"\"\n",
    "\n",
    "name = \"zannatul {nickname}\"\n",
    "\n",
    "print(name.format(nickname = \"naim\"))\n",
    "\n",
    "details = \"Hi, My name is {} and i am {} years old\"\n",
    "print(details.format('naim', 20))\n",
    "\n",
    "message = 'He, my name is {name} and i am {age} years old'\n",
    "print(message.format(age = 20, name = 'naim'))\n",
    "\n",
    "# print message by index formatting\n",
    "msg = 'Hi, my name is {0} and i am {1} years old'\n",
    "print(msg.format('naim', 20))"
   ]
  },
  {
   "cell_type": "code",
   "execution_count": null,
   "id": "1d79487a-a19f-4286-9030-c21b20dcea34",
   "metadata": {},
   "outputs": [],
   "source": []
  }
 ],
 "metadata": {
  "kernelspec": {
   "display_name": "Python 3 (ipykernel)",
   "language": "python",
   "name": "python3"
  },
  "language_info": {
   "codemirror_mode": {
    "name": "ipython",
    "version": 3
   },
   "file_extension": ".py",
   "mimetype": "text/x-python",
   "name": "python",
   "nbconvert_exporter": "python",
   "pygments_lexer": "ipython3",
   "version": "3.10.4"
  }
 },
 "nbformat": 4,
 "nbformat_minor": 5
}
