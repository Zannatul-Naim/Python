{
 "cells": [
  {
   "cell_type": "markdown",
   "id": "d3318fbb-e9c8-48a2-8ab2-771558161f88",
   "metadata": {},
   "source": [
    "# Tuples in Python\n",
    "\n",
    "Tuples are immutable lists and cannot be changed in any way once it is created\n",
    "\n",
    "- Tuples are defined in the same way as list\n",
    "- They are enclosed within parenthesis ans not within square braces\n",
    "- Tuples are ordered, indexed collections of data\n",
    "- similar to string indices, the first value in the tuple will have the index 0\n",
    "- Negative indices are counted from the end of the tuple, just like lists.\n",
    "- Tuples can store duplicate values"
   ]
  },
  {
   "cell_type": "code",
   "execution_count": 3,
   "id": "e3ae9a7b-de5d-402b-ac49-7f691787b96a",
   "metadata": {},
   "outputs": [
    {
     "name": "stdout",
     "output_type": "stream",
     "text": [
      "('hello', 'python', 3.22, 'naim', 23)\n",
      "<class 'tuple'>\n",
      "5\n"
     ]
    }
   ],
   "source": [
    "# Let's crete a tuple\n",
    "\n",
    "tuple_1 = ('hello', 'python', 3.22, 'naim', 23)\n",
    "print(tuple_1)\n",
    "print(type(tuple_1))\n",
    "print(len(tuple_1))"
   ]
  },
  {
   "cell_type": "code",
   "execution_count": 11,
   "id": "176ccc5a-4067-4341-881a-d4d8da4de181",
   "metadata": {},
   "outputs": [
    {
     "name": "stdout",
     "output_type": "stream",
     "text": [
      "('naim', 7.89, 90, (3, 4, 5), [2, 3, 4], {'a': 1, 'b': 2})\n",
      "naim\n",
      "(3, 4, 5)\n",
      "<class 'tuple'>\n",
      "<class 'list'>\n",
      "<class 'str'>\n",
      "<class 'dict'>\n"
     ]
    }
   ],
   "source": [
    "# Indexing \n",
    "\n",
    "# Printing the each value in a tuple using both positive and negative indexing\n",
    "\n",
    "tp = ('naim', 7.89, 90, (3, 4, 5), [2,3,4], {'a':1, 'b':2})\n",
    "print(tp)\n",
    "print(tp[0])\n",
    "print(tp[3])\n",
    "print(type(tp[3]))\n",
    "print(type(tp[4]))\n",
    "print(type(tp[0]))\n",
    "print(type(tp[5]))"
   ]
  },
  {
   "cell_type": "markdown",
   "id": "582a7d76-6e6e-47ff-9133-b73453254c4a",
   "metadata": {},
   "source": [
    "# Concatenation of tuples\n",
    "\n",
    "### To concatenate tuples, '+' sign is used"
   ]
  },
  {
   "cell_type": "code",
   "execution_count": 12,
   "id": "ae2a7dcb-9e53-4576-b012-121a40c3e694",
   "metadata": {},
   "outputs": [
    {
     "name": "stdout",
     "output_type": "stream",
     "text": [
      "('naim', 20)\n",
      "('naim', 20, 'Hello naim', 2022)\n"
     ]
    }
   ],
   "source": [
    "tup = ('naim', 20)\n",
    "tp = tup + ('Hello naim', 2022)\n",
    "print(tup)\n",
    "print(tp)"
   ]
  },
  {
   "cell_type": "code",
   "execution_count": 13,
   "id": "e0158efe-1cb6-4bb3-8ac3-582c46c84c3d",
   "metadata": {},
   "outputs": [
    {
     "data": {
      "text/plain": [
       "(1, 2, 3, 4, 1, 2, 3, 4)"
      ]
     },
     "execution_count": 13,
     "metadata": {},
     "output_type": "execute_result"
    }
   ],
   "source": [
    "# Repetitioin of a tuple\n",
    "\n",
    "rep_tup = (1, 2, 3, 4)\n",
    "rep_tup*2"
   ]
  },
  {
   "cell_type": "code",
   "execution_count": 14,
   "id": "98f88373-c9e0-4e2a-92f3-c16adeb64c49",
   "metadata": {},
   "outputs": [
    {
     "name": "stdout",
     "output_type": "stream",
     "text": [
      "True\n",
      "False\n"
     ]
    }
   ],
   "source": [
    "temp_tup = (1, 2, 3, 4, 5)\n",
    "\n",
    "print(3 in temp_tup)\n",
    "print(3 not in temp_tup)"
   ]
  },
  {
   "cell_type": "markdown",
   "id": "9a1e13df-f70f-4578-98bb-87f094f3c46d",
   "metadata": {},
   "source": [
    "# Iteration through a tuple\n"
   ]
  },
  {
   "cell_type": "code",
   "execution_count": 15,
   "id": "e9c469bd-5276-4537-ab00-0ac02a9ae468",
   "metadata": {},
   "outputs": [
    {
     "name": "stdout",
     "output_type": "stream",
     "text": [
      "1\n",
      "2\n",
      "3\n",
      "4\n",
      "5\n",
      "6\n",
      "7\n",
      "8\n",
      "9\n",
      "10\n"
     ]
    }
   ],
   "source": [
    "temp_tup = (1, 2, 3, 4, 5, 6, 7, 8, 9, 10)\n",
    "\n",
    "for i in temp_tup:\n",
    "    print(i)"
   ]
  },
  {
   "cell_type": "markdown",
   "id": "a686cd9d-cac8-4ca8-abd7-911a8cc9a534",
   "metadata": {},
   "source": [
    "# Concatenation of tuples\n",
    "\n",
    "### To concatenate tuples use '+' sign"
   ]
  },
  {
   "cell_type": "code",
   "execution_count": 3,
   "id": "11932985-de0b-4dfa-8051-f476408a5494",
   "metadata": {},
   "outputs": [
    {
     "name": "stdout",
     "output_type": "stream",
     "text": [
      "('naim', 20, 10.4)\n",
      "('ashraful', 22, 11.3)\n",
      "('naim', 20, 10.4, 'ashraful', 22, 11.3)\n"
     ]
    }
   ],
   "source": [
    "tup1 = ('naim', 20, 10.4)\n",
    "tup2 = ('ashraful', 22, 11.3)\n",
    "\n",
    "tup = tup1+tup2 # concatenating\n",
    "\n",
    "print(tup1)\n",
    "print(tup2)\n",
    "print(tup)"
   ]
  },
  {
   "cell_type": "markdown",
   "id": "bcbc68d3-6c5d-4492-883b-7838b261562b",
   "metadata": {},
   "source": [
    "# repetition of a tuple"
   ]
  },
  {
   "cell_type": "code",
   "execution_count": 4,
   "id": "7c1bf9b7-6219-4e35-afc4-8731f242f4c5",
   "metadata": {},
   "outputs": [
    {
     "data": {
      "text/plain": [
       "('naim',\n",
       " 20,\n",
       " 10.4,\n",
       " 'ashraful',\n",
       " 22,\n",
       " 11.3,\n",
       " 'naim',\n",
       " 20,\n",
       " 10.4,\n",
       " 'ashraful',\n",
       " 22,\n",
       " 11.3,\n",
       " 'naim',\n",
       " 20,\n",
       " 10.4,\n",
       " 'ashraful',\n",
       " 22,\n",
       " 11.3)"
      ]
     },
     "execution_count": 4,
     "metadata": {},
     "output_type": "execute_result"
    }
   ],
   "source": [
    "# to repeat a tuple use tuple_name*number_of_repetition\n",
    "\n",
    "tup*3"
   ]
  },
  {
   "cell_type": "markdown",
   "id": "db4402cd-4dd0-4471-9de9-e5965888958a",
   "metadata": {},
   "source": [
    "# Membership"
   ]
  },
  {
   "cell_type": "code",
   "execution_count": 6,
   "id": "6114d1f1-e104-4191-ac74-79dccc990e9d",
   "metadata": {},
   "outputs": [
    {
     "name": "stdout",
     "output_type": "stream",
     "text": [
      "True\n",
      "False\n",
      "False\n",
      "False\n",
      "True\n"
     ]
    }
   ],
   "source": [
    "# use 'in' and 'not in' to check membership of tuple\n",
    "\n",
    "print('naim' in tup)\n",
    "print('main' in tup)\n",
    "print('naim' not in tup)\n",
    "print('ashraful' not in tup)\n",
    "print('sayed' not in tup)"
   ]
  },
  {
   "cell_type": "markdown",
   "id": "9eaacd4f-6f8a-4e34-898f-b67c40aad2e0",
   "metadata": {},
   "source": [
    "# min() and max() function"
   ]
  },
  {
   "cell_type": "code",
   "execution_count": 9,
   "id": "f83b8a0e-be7c-4746-b3f9-f7837032d3a8",
   "metadata": {},
   "outputs": [
    {
     "name": "stdout",
     "output_type": "stream",
     "text": [
      "minimum :  1\n",
      "maximum :  7\n",
      "max - min :  6\n"
     ]
    }
   ],
   "source": [
    "num = (1, 2, 3, 4, 5, 6, 7)\n",
    "print('minimum : ', min(num))\n",
    "print('maximum : ', max(num))\n",
    "\n",
    "print('max - min : ', max(num)-min(num))"
   ]
  },
  {
   "cell_type": "markdown",
   "id": "e5bd8bbe-5a8f-48b5-b49d-5b9a5110a6c8",
   "metadata": {},
   "source": [
    "## Slicing\n",
    "\n",
    "To obtain a new tuple from the current tuple, the slicing method is used"
   ]
  },
  {
   "cell_type": "code",
   "execution_count": 25,
   "id": "a6eab810-16ab-4166-ad54-f266548e1562",
   "metadata": {},
   "outputs": [
    {
     "name": "stdout",
     "output_type": "stream",
     "text": [
      "(1, 2, 3, 4)\n",
      "(5, 6)\n"
     ]
    }
   ],
   "source": [
    "# Obtaining a new tuple from the index 1 to 5\n",
    "\n",
    "num = (1,2,3,4,5,6,7)\n",
    "\n",
    "print(num[0:4])\n",
    "\n",
    "# negative indexing\n",
    "\n",
    "print(num[-3:-1])"
   ]
  },
  {
   "cell_type": "code",
   "execution_count": 26,
   "id": "f607f776-e6d2-4f7a-99c6-ba16c4fb55dd",
   "metadata": {},
   "outputs": [
    {
     "name": "stdout",
     "output_type": "stream",
     "text": [
      "len of num tuple =  7\n"
     ]
    }
   ],
   "source": [
    "# find lenght of a tuple\n",
    "\n",
    "print(\"len of num tuple = \", len(num))"
   ]
  },
  {
   "cell_type": "code",
   "execution_count": 27,
   "id": "a275a988-f6af-4588-b815-d47d2d6fa37e",
   "metadata": {},
   "outputs": [
    {
     "name": "stdout",
     "output_type": "stream",
     "text": [
      "(1, 3, 5, 9, 8, 6, 2, 4, 7)\n",
      "[1, 2, 3, 4, 5, 6, 7, 8, 9]\n"
     ]
    }
   ],
   "source": [
    "# sorting  a tuple\n",
    "\n",
    "unsorted_num = (1, 3, 5, 9, 8, 6, 2, 4, 7)\n",
    "\n",
    "sorted_num = sorted(unsorted_num)\n",
    "\n",
    "print(unsorted_num)\n",
    "print(sorted_num)"
   ]
  },
  {
   "cell_type": "markdown",
   "id": "a2c48d38-c8bc-4bb7-b4d2-4a8de2e15ab7",
   "metadata": {},
   "source": [
    "# check immutability of tuples"
   ]
  },
  {
   "cell_type": "code",
   "execution_count": 29,
   "id": "eaadbb69-7972-4185-b3f8-7195bdacc3b0",
   "metadata": {},
   "outputs": [
    {
     "name": "stdout",
     "output_type": "stream",
     "text": [
      "1\n"
     ]
    },
    {
     "ename": "TypeError",
     "evalue": "'tuple' object does not support item assignment",
     "output_type": "error",
     "traceback": [
      "\u001b[1;31m---------------------------------------------------------------------------\u001b[0m",
      "\u001b[1;31mTypeError\u001b[0m                                 Traceback (most recent call last)",
      "Cell \u001b[1;32mIn [29], line 3\u001b[0m\n\u001b[0;32m      1\u001b[0m n \u001b[38;5;241m=\u001b[39m (\u001b[38;5;241m1\u001b[39m, \u001b[38;5;241m2\u001b[39m, \u001b[38;5;241m3\u001b[39m)\n\u001b[0;32m      2\u001b[0m \u001b[38;5;28mprint\u001b[39m(n[\u001b[38;5;241m0\u001b[39m])\n\u001b[1;32m----> 3\u001b[0m \u001b[43mn\u001b[49m\u001b[43m[\u001b[49m\u001b[38;5;241;43m0\u001b[39;49m\u001b[43m]\u001b[49m \u001b[38;5;241m=\u001b[39m \u001b[38;5;241m4\u001b[39m\n",
      "\u001b[1;31mTypeError\u001b[0m: 'tuple' object does not support item assignment"
     ]
    }
   ],
   "source": [
    "n = (1, 2, 3)\n",
    "print(n[0])\n",
    "n[0] = 4"
   ]
  },
  {
   "cell_type": "code",
   "execution_count": 31,
   "id": "b09a3070-6e82-45e3-855d-1fb660c10eca",
   "metadata": {},
   "outputs": [
    {
     "name": "stdout",
     "output_type": "stream",
     "text": [
      "3\n"
     ]
    }
   ],
   "source": [
    "# count function\n",
    "\n",
    "num = (1, 2, 3, 4, 5, 6, 7, 7, 7)\n",
    "\n",
    "print(num.count(7))\n"
   ]
  },
  {
   "cell_type": "code",
   "execution_count": 33,
   "id": "aecaf15a-8259-46d2-a125-bba32be86ae9",
   "metadata": {},
   "outputs": [
    {
     "name": "stdout",
     "output_type": "stream",
     "text": [
      "0\n",
      "2\n"
     ]
    }
   ],
   "source": [
    "# Index method\n",
    "\n",
    "tup = (1, 2, 3.4, 5, 6)\n",
    "\n",
    "print(tup.index(1))\n",
    "print(tup.index(3.4))"
   ]
  },
  {
   "cell_type": "code",
   "execution_count": 34,
   "id": "2a9774df-9a4e-43ef-acdf-3ec151153c46",
   "metadata": {},
   "outputs": [
    {
     "name": "stdout",
     "output_type": "stream",
     "text": [
      "6\n",
      "<class 'int'>\n",
      "(6,)\n",
      "<class 'tuple'>\n"
     ]
    }
   ],
   "source": [
    "# One element tuple\n",
    "\n",
    "# if a tuple includes only one element, should put a comma after the element\n",
    "\n",
    "tup = (6)\n",
    "print(tup)\n",
    "print(type(tup))\n",
    "\n",
    "tup = (6, )\n",
    "print(tup)\n",
    "print(type(tup))"
   ]
  },
  {
   "cell_type": "code",
   "execution_count": null,
   "id": "1d36452d-7ae8-4e10-90dd-bcd571580a79",
   "metadata": {},
   "outputs": [],
   "source": []
  }
 ],
 "metadata": {
  "kernelspec": {
   "display_name": "Python 3 (ipykernel)",
   "language": "python",
   "name": "python3"
  },
  "language_info": {
   "codemirror_mode": {
    "name": "ipython",
    "version": 3
   },
   "file_extension": ".py",
   "mimetype": "text/x-python",
   "name": "python",
   "nbconvert_exporter": "python",
   "pygments_lexer": "ipython3",
   "version": "3.10.4"
  }
 },
 "nbformat": 4,
 "nbformat_minor": 5
}
