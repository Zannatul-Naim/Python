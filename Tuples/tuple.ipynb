{
 "cells": [
  {
   "cell_type": "markdown",
   "id": "d3318fbb-e9c8-48a2-8ab2-771558161f88",
   "metadata": {},
   "source": [
    "# Tuples in Python\n",
    "\n",
    "Tuples are immutable lists and cannot be changed in any way once it is created\n",
    "\n",
    "- Tuples are defined in the same way as list\n",
    "- They are enclosed within parenthesis ans not within square braces\n",
    "- Tuples are ordered, indexed collections of data\n",
    "- similar to string indices, the first value in the tuple will have the index 0\n",
    "- Negative indices are counted from the end of the tuple, just like lists.\n",
    "- Tuples can store duplicate values"
   ]
  },
  {
   "cell_type": "code",
   "execution_count": 3,
   "id": "e3ae9a7b-de5d-402b-ac49-7f691787b96a",
   "metadata": {},
   "outputs": [
    {
     "name": "stdout",
     "output_type": "stream",
     "text": [
      "('hello', 'python', 3.22, 'naim', 23)\n",
      "<class 'tuple'>\n",
      "5\n"
     ]
    }
   ],
   "source": [
    "# Let's crete a tuple\n",
    "\n",
    "tuple_1 = ('hello', 'python', 3.22, 'naim', 23)\n",
    "print(tuple_1)\n",
    "print(type(tuple_1))\n",
    "print(len(tuple_1))"
   ]
  },
  {
   "cell_type": "code",
   "execution_count": 11,
   "id": "176ccc5a-4067-4341-881a-d4d8da4de181",
   "metadata": {},
   "outputs": [
    {
     "name": "stdout",
     "output_type": "stream",
     "text": [
      "('naim', 7.89, 90, (3, 4, 5), [2, 3, 4], {'a': 1, 'b': 2})\n",
      "naim\n",
      "(3, 4, 5)\n",
      "<class 'tuple'>\n",
      "<class 'list'>\n",
      "<class 'str'>\n",
      "<class 'dict'>\n"
     ]
    }
   ],
   "source": [
    "# Indexing \n",
    "\n",
    "# Printing the each value in a tuple using both positive and negative indexing\n",
    "\n",
    "tp = ('naim', 7.89, 90, (3, 4, 5), [2,3,4], {'a':1, 'b':2})\n",
    "print(tp)\n",
    "print(tp[0])\n",
    "print(tp[3])\n",
    "print(type(tp[3]))\n",
    "print(type(tp[4]))\n",
    "print(type(tp[0]))\n",
    "print(type(tp[5]))"
   ]
  },
  {
   "cell_type": "markdown",
   "id": "582a7d76-6e6e-47ff-9133-b73453254c4a",
   "metadata": {},
   "source": [
    "# Concatenation of tuples\n",
    "\n",
    "### To concatenate tuples, '+' sign is used"
   ]
  },
  {
   "cell_type": "code",
   "execution_count": 12,
   "id": "ae2a7dcb-9e53-4576-b012-121a40c3e694",
   "metadata": {},
   "outputs": [
    {
     "name": "stdout",
     "output_type": "stream",
     "text": [
      "('naim', 20)\n",
      "('naim', 20, 'Hello naim', 2022)\n"
     ]
    }
   ],
   "source": [
    "tup = ('naim', 20)\n",
    "tp = tup + ('Hello naim', 2022)\n",
    "print(tup)\n",
    "print(tp)"
   ]
  },
  {
   "cell_type": "code",
   "execution_count": 13,
   "id": "e0158efe-1cb6-4bb3-8ac3-582c46c84c3d",
   "metadata": {},
   "outputs": [
    {
     "data": {
      "text/plain": [
       "(1, 2, 3, 4, 1, 2, 3, 4)"
      ]
     },
     "execution_count": 13,
     "metadata": {},
     "output_type": "execute_result"
    }
   ],
   "source": [
    "# Repetitioin of a tuple\n",
    "\n",
    "rep_tup = (1, 2, 3, 4)\n",
    "rep_tup*2"
   ]
  },
  {
   "cell_type": "code",
   "execution_count": 14,
   "id": "98f88373-c9e0-4e2a-92f3-c16adeb64c49",
   "metadata": {},
   "outputs": [
    {
     "name": "stdout",
     "output_type": "stream",
     "text": [
      "True\n",
      "False\n"
     ]
    }
   ],
   "source": [
    "temp_tup = (1, 2, 3, 4, 5)\n",
    "\n",
    "print(3 in temp_tup)\n",
    "print(3 not in temp_tup)"
   ]
  },
  {
   "cell_type": "markdown",
   "id": "9a1e13df-f70f-4578-98bb-87f094f3c46d",
   "metadata": {},
   "source": [
    "# Iteration in a tuple\n"
   ]
  },
  {
   "cell_type": "code",
   "execution_count": 15,
   "id": "e9c469bd-5276-4537-ab00-0ac02a9ae468",
   "metadata": {},
   "outputs": [
    {
     "name": "stdout",
     "output_type": "stream",
     "text": [
      "1\n",
      "2\n",
      "3\n",
      "4\n",
      "5\n",
      "6\n",
      "7\n",
      "8\n",
      "9\n",
      "10\n"
     ]
    }
   ],
   "source": [
    "temp_tup = (1, 2, 3, 4, 5, 6, 7, 8, 9, 10)\n",
    "\n",
    "for i in temp_tup:\n",
    "    print(i)"
   ]
  },
  {
   "cell_type": "code",
   "execution_count": null,
   "id": "04ecdf91-26b4-4b1a-83c7-6974af92feaf",
   "metadata": {},
   "outputs": [],
   "source": []
  }
 ],
 "metadata": {
  "kernelspec": {
   "display_name": "Python 3 (ipykernel)",
   "language": "python",
   "name": "python3"
  },
  "language_info": {
   "codemirror_mode": {
    "name": "ipython",
    "version": 3
   },
   "file_extension": ".py",
   "mimetype": "text/x-python",
   "name": "python",
   "nbconvert_exporter": "python",
   "pygments_lexer": "ipython3",
   "version": "3.10.4"
  }
 },
 "nbformat": 4,
 "nbformat_minor": 5
}
