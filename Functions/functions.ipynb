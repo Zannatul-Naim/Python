{
 "cells": [
  {
   "cell_type": "markdown",
   "id": "f06fc5e4-5366-4b2e-8ec3-02c487a4a1d5",
   "metadata": {},
   "source": [
    "# Functions in Python\n",
    "\n",
    "- In python, a function is a group of related statements that performs a specific task.\n",
    "- Functions help break the program into smaller and modular chunks.\n",
    "- Furthermore, it avoids repetition and makes the code reusable.\n",
    "- There are two types of functions\n",
    "    - Pre-Defined functions\n",
    "    - User defined functions\n",
    "- In python a function is defined using the <b>def</b> keyword followed by the function name and parentheses.\n",
    "- Keyword <b>def</b> that marks the start of the function header.\n",
    "- Function naming follows the same rules of writing identifiers in Python.\n",
    "- An optional return statement to return a value from the python."
   ]
  },
  {
   "cell_type": "code",
   "execution_count": 1,
   "id": "6187773b-382a-410b-9f9a-d871471efe98",
   "metadata": {},
   "outputs": [
    {
     "name": "stdout",
     "output_type": "stream",
     "text": [
      "4 + 5 = 9\n"
     ]
    }
   ],
   "source": [
    "# Let's take a function :\n",
    "\n",
    "def adder(a, b):\n",
    "    print(f'{a} + {b} = {a+b}')\n",
    "adder(4, 5)"
   ]
  },
  {
   "cell_type": "code",
   "execution_count": 2,
   "id": "379617e9-5214-46b5-bc72-112dc4610314",
   "metadata": {},
   "outputs": [
    {
     "name": "stdout",
     "output_type": "stream",
     "text": [
      "Help on function adder in module __main__:\n",
      "\n",
      "adder(a, b)\n",
      "\n"
     ]
    }
   ],
   "source": [
    "help(adder)"
   ]
  },
  {
   "cell_type": "code",
   "execution_count": 3,
   "id": "ac2e8c30-5a62-405e-bf45-0a664691862d",
   "metadata": {},
   "outputs": [
    {
     "name": "stdout",
     "output_type": "stream",
     "text": [
      "37\n",
      "40\n"
     ]
    }
   ],
   "source": [
    "# Define a function\n",
    "\n",
    "def multi_param(x, y):\n",
    "    z = 2*x + 3*y\n",
    "    return z\n",
    "\n",
    "output = multi_param(5, 9)\n",
    "print(output)\n",
    "\n",
    "# also called using function name\n",
    "print(multi_param(5, 10))"
   ]
  },
  {
   "cell_type": "markdown",
   "id": "bf9e93fd-893f-4c5b-8c26-618858ea5616",
   "metadata": {},
   "source": [
    "# Variables\n",
    "\n",
    "- The input to a function is called a formal parameter.\n",
    "- A variable that is declared inside a function is called a local variable\n",
    "- The parameter only exists within the funciton.\n",
    "- A variable that is declared outside a function difinition is <b>global variable</b> and it's accessible and modifiable throughout the program."
   ]
  },
  {
   "cell_type": "code",
   "execution_count": 4,
   "id": "1d9394f9-f5d8-4cad-836b-791b01a97f63",
   "metadata": {},
   "outputs": [
    {
     "name": "stdout",
     "output_type": "stream",
     "text": [
      "55\n"
     ]
    }
   ],
   "source": [
    "# Let's define a function\n",
    "\n",
    "def func(x):\n",
    "    # take a local variable\n",
    "    y = 11\n",
    "    return  y*x\n",
    "print(func(5))"
   ]
  },
  {
   "cell_type": "code",
   "execution_count": 5,
   "id": "a514d34a-f289-4b01-ad20-f713d561ac5f",
   "metadata": {},
   "outputs": [
    {
     "name": "stdout",
     "output_type": "stream",
     "text": [
      "1099.8899999999999\n"
     ]
    }
   ],
   "source": [
    "# Let's take a global variable\n",
    "var = 99.99\n",
    "\n",
    "# call func() and return function\n",
    "\n",
    "y = func(var)\n",
    "print(y)"
   ]
  },
  {
   "cell_type": "code",
   "execution_count": 9,
   "id": "e047d538-e48b-44df-9b79-3f03f39ad09d",
   "metadata": {},
   "outputs": [
    {
     "name": "stdout",
     "output_type": "stream",
     "text": [
      "hello, python\n",
      "hello, python\n"
     ]
    }
   ],
   "source": [
    "# Define a function with and without return statement\n",
    "\n",
    "def msg():\n",
    "    print('hello, python')\n",
    "\n",
    "def msg0():\n",
    "    return 'hello, python'\n",
    "\n",
    "msg()\n",
    "print(msg0())"
   ]
  },
  {
   "cell_type": "code",
   "execution_count": 10,
   "id": "d20bfbce-f495-41e3-b1ba-2f428e205518",
   "metadata": {},
   "outputs": [
    {
     "name": "stdout",
     "output_type": "stream",
     "text": [
      "zannatul naim\n"
     ]
    }
   ],
   "source": [
    "# write a function that can concatenate two strings\n",
    "\n",
    "def concat(s1, s2):\n",
    "    return x+' '+y\n",
    "\n",
    "# test\n",
    "x = 'zannatul'\n",
    "y = 'naim'\n",
    "z = concat(x, y)\n",
    "print(z)"
   ]
  },
  {
   "cell_type": "code",
   "execution_count": 14,
   "id": "e878ae71-3825-4d5a-8dbb-d196b754e2e3",
   "metadata": {},
   "outputs": [
    {
     "name": "stdout",
     "output_type": "stream",
     "text": [
      "9\n"
     ]
    }
   ],
   "source": [
    "# The following codes can be write as a function.\n",
    "\n",
    "def function(x, y):\n",
    "    equation = x*y + x + y - 20\n",
    "    if equation > 0:\n",
    "        equation = 9\n",
    "    else: equation = 20\n",
    "    return equation\n",
    "\n",
    "x = 3.00\n",
    "y = 9.76\n",
    "print(function(x, y))"
   ]
  },
  {
   "cell_type": "markdown",
   "id": "20bf9a2c-1dab-4560-a623-fe38eccdc8a0",
   "metadata": {},
   "source": [
    "### <b> Predefined functions like print(), sum(), len(), max(), min(), input() </b> "
   ]
  },
  {
   "cell_type": "code",
   "execution_count": 16,
   "id": "755e35b0-9425-4ac1-acac-1cb85cc2632c",
   "metadata": {},
   "outputs": [
    {
     "name": "stdout",
     "output_type": "stream",
     "text": [
      "[0.577, 2.718, 3.14, 1.618, 1729, 6, 28, 37]\n",
      "1808.053\n"
     ]
    },
    {
     "data": {
      "text/plain": [
       "8"
      ]
     },
     "execution_count": 16,
     "metadata": {},
     "output_type": "execute_result"
    }
   ],
   "source": [
    "# print() is a built-in function \n",
    "special_numbers = [0.577, 2.718, 3.14, 1.618, 1729, 6, 28, 37]\n",
    "print(special_numbers)\n",
    "\n",
    "# The function sum() add all elements in a list or a tuple\n",
    "print(sum(special_numbers))\n",
    "\n",
    "# The function len() gives us the length of the list or tuple\n",
    "len(special_numbers)"
   ]
  },
  {
   "cell_type": "code",
   "execution_count": 17,
   "id": "d826245e-c76c-4e2e-8f75-9f8230f08a26",
   "metadata": {},
   "outputs": [
    {
     "name": "stdout",
     "output_type": "stream",
     "text": [
      "lion tiger shark blue-whale hamming-bird parrot dinosor "
     ]
    }
   ],
   "source": [
    "# Let's define a function using the loop for\n",
    "\n",
    "def fermentation(contents):\n",
    "    for content in contents:\n",
    "        print(content, end=' ')\n",
    "contents = ['lion', 'tiger', 'shark', 'blue-whale', 'hamming-bird', 'parrot', 'dinosor']\n",
    "\n",
    "fermentation(contents)"
   ]
  },
  {
   "cell_type": "code",
   "execution_count": 21,
   "id": "69b51fa3-028a-4fb9-b9e6-d8de00ab69df",
   "metadata": {},
   "outputs": [
    {
     "name": "stdout",
     "output_type": "stream",
     "text": [
      "python is a programming language\n",
      "c++ is a programming language\n",
      "python\n"
     ]
    },
    {
     "ename": "NameError",
     "evalue": "name 'global_var' is not defined",
     "output_type": "error",
     "traceback": [
      "\u001b[1;31m---------------------------------------------------------------------------\u001b[0m",
      "\u001b[1;31mNameError\u001b[0m                                 Traceback (most recent call last)",
      "Cell \u001b[1;32mIn [21], line 13\u001b[0m\n\u001b[0;32m     11\u001b[0m language(lang)\n\u001b[0;32m     12\u001b[0m \u001b[38;5;28mprint\u001b[39m(lang) \u001b[38;5;66;03m# not changed in globally\u001b[39;00m\n\u001b[1;32m---> 13\u001b[0m language(\u001b[43mglobal_var\u001b[49m)\n\u001b[0;32m     15\u001b[0m \u001b[38;5;124;03m\"\"\"\u001b[39;00m\n\u001b[0;32m     16\u001b[0m \u001b[38;5;124;03mThe output gives a NameError, since all variables in the function are local variables, \u001b[39;00m\n\u001b[0;32m     17\u001b[0m \u001b[38;5;124;03mso variable assignment is not persistent outside the function.\u001b[39;00m\n\u001b[0;32m     18\u001b[0m \u001b[38;5;124;03m\"\"\"\u001b[39;00m\n",
      "\u001b[1;31mNameError\u001b[0m: name 'global_var' is not defined"
     ]
    }
   ],
   "source": [
    "# Define a function for a global variable\n",
    "\n",
    "lang = 'python'\n",
    "\n",
    "def language(lang):\n",
    "    global_var = lang\n",
    "    print(f'{lang} is a programming language')\n",
    "    lang = 'c++'\n",
    "    print(f'{lang} is a programming language')\n",
    "\n",
    "language(lang)\n",
    "print(lang) # not changed in globally\n",
    "language(global_var)\n",
    "\n",
    "\"\"\"\n",
    "The output gives a NameError, since all variables in the function are local variables, \n",
    "so variable assignment is not persistent outside the function.\n",
    "\"\"\"\n"
   ]
  },
  {
   "cell_type": "code",
   "execution_count": 22,
   "id": "92cb67f6-7caa-440a-9bcc-d666297c83ef",
   "metadata": {},
   "outputs": [
    {
     "name": "stdout",
     "output_type": "stream",
     "text": [
      "javascript is a programming language\n",
      "Python\n"
     ]
    }
   ],
   "source": [
    "# Define a function for a global variable\n",
    "\n",
    "language = 'javascript'\n",
    "\n",
    "def lang(language):\n",
    "    global global_var\n",
    "    global_var = 'Python'\n",
    "    print(f'{language} is a programming language')\n",
    "lang(language)\n",
    "print(global_var)"
   ]
  },
  {
   "cell_type": "code",
   "execution_count": 24,
   "id": "622ad5cf-d7d2-439d-9360-d3aeaa016bdc",
   "metadata": {},
   "outputs": [
    {
     "ename": "NameError",
     "evalue": "name 'process' is not defined",
     "output_type": "error",
     "traceback": [
      "\u001b[1;31m---------------------------------------------------------------------------\u001b[0m",
      "\u001b[1;31mNameError\u001b[0m                                 Traceback (most recent call last)",
      "Cell \u001b[1;32mIn [24], line 2\u001b[0m\n\u001b[0;32m      1\u001b[0m \u001b[38;5;66;03m# If the variable 'process' is deleted, it returns a NameError as follows\u001b[39;00m\n\u001b[1;32m----> 2\u001b[0m \u001b[43mprocess\u001b[49m\n\u001b[0;32m      3\u001b[0m \u001b[38;5;28;01mdel\u001b[39;00m process\n\u001b[0;32m      4\u001b[0m \u001b[38;5;66;03m# Since the variable 'process' is deleted, the following function is an example of local variable\u001b[39;00m\n",
      "\u001b[1;31mNameError\u001b[0m: name 'process' is not defined"
     ]
    }
   ],
   "source": [
    "# If the variable 'process' is deleted, it returns a NameError as follows\n",
    "process\n",
    "del process\n",
    "# Since the variable 'process' is deleted, the following function is an example of local variable\n",
    "def fermentation(process_name):\n",
    "    process = 'Continuous fermentation'\n",
    "    if process_name == process:\n",
    "        return '0.5 g/L/h.'\n",
    "    else:\n",
    "         return '0.25 g/L/h.'\n",
    "\n",
    "print('The productiovity in continuous fermentation is', fermentation('Continuous fermentation'))\n",
    "print('The productiovity in batch fermentation is', fermentation('Batch fermentation'))\n",
    "print('Continuous fermentation has many advantages over batch fermentation.')\n",
    "print(f'My favourite process is {process}.')"
   ]
  },
  {
   "cell_type": "code",
   "execution_count": 26,
   "id": "3306edde-d34b-4ada-92c1-567add3a35b4",
   "metadata": {},
   "outputs": [
    {
     "name": "stdout",
     "output_type": "stream",
     "text": [
      "number of elements is ,  6\n",
      "naim main fake guy big small \n",
      "number of elements is ,  4\n",
      "naim shakil ashraful sayed "
     ]
    }
   ],
   "source": [
    "# Define a function regarding a tuple example\n",
    "\n",
    "def function(*args):\n",
    "    print('number of elements is , ', len(args))\n",
    "    for element in args:\n",
    "        print(element, end = ' ')\n",
    "\n",
    "function('naim', 'main', 'fake', 'guy', 'big', 'small')\n",
    "print()\n",
    "function('naim', 'shakil', 'ashraful', 'sayed')"
   ]
  },
  {
   "cell_type": "code",
   "execution_count": 28,
   "id": "dbd14884-6fe9-48f4-8cbd-c79d465e8e7f",
   "metadata": {},
   "outputs": [
    {
     "name": "stdout",
     "output_type": "stream",
     "text": [
      "The total of the numbers is 1780.053\n"
     ]
    }
   ],
   "source": [
    "# Another example regarding 'args'\n",
    "def total(*args):\n",
    "    total = 0\n",
    "    for i in args:\n",
    "        total += i\n",
    "    return total\n",
    "print('The total of the numbers is', total(0.577, 2.718, 3.14, 1.618, 1729, 6, 37))"
   ]
  },
  {
   "cell_type": "code",
   "execution_count": 30,
   "id": "625de51c-c55a-4c59-909e-6d4b529c1fd8",
   "metadata": {},
   "outputs": [
    {
     "name": "stdout",
     "output_type": "stream",
     "text": [
      "Micoorganism : Aspergillus niger\n",
      "Substrate : Molasses\n",
      "Product : Inulinase\n"
     ]
    }
   ],
   "source": [
    "# Define a function regarding a dictionary example\n",
    "def function(**args):\n",
    "    for key in args:\n",
    "        print(key, ':', args[key])\n",
    "function(Micoorganism='Aspergillus niger', Substrate='Molasses', Product='Inulinase')"
   ]
  },
  {
   "cell_type": "code",
   "execution_count": 33,
   "id": "e1678607-126f-4c6e-9581-c1ead79c1790",
   "metadata": {},
   "outputs": [
    {
     "name": "stdout",
     "output_type": "stream",
     "text": [
      "[23, 45, 90, 23, 98, 100]\n",
      "379\n",
      "23\n",
      "100\n",
      "6\n"
     ]
    }
   ],
   "source": [
    "# Define a function regardng the addition of elements into a list\n",
    "\n",
    "def addition(lst):\n",
    "    lst.append(23)\n",
    "    lst.append(98)\n",
    "    lst.append(100)\n",
    "my_list = [23, 45, 90]\n",
    "\n",
    "addition(my_list)\n",
    "\n",
    "print(my_list)\n",
    "print(sum(my_list))\n",
    "print(min(my_list))\n",
    "print(max(my_list))\n",
    "print(len(my_list))"
   ]
  },
  {
   "cell_type": "code",
   "execution_count": 35,
   "id": "b2b38c1e-4985-455b-b8f9-5216bcebb6c9",
   "metadata": {},
   "outputs": [
    {
     "name": "stdout",
     "output_type": "stream",
     "text": [
      "The following function returns the sum of two parameters.\n",
      "1443\n"
     ]
    }
   ],
   "source": [
    "# Docstring in function\n",
    "\n",
    "# Define a function\n",
    "\n",
    "def add(x, y):\n",
    "    \"\"\"The following function returns the sum of two parameters.\"\"\"\n",
    "    z = x+y\n",
    "    return z\n",
    "\n",
    "print(add.__doc__)\n",
    "print(add(444, 999))"
   ]
  },
  {
   "cell_type": "markdown",
   "id": "778f86c7-a4bc-4945-87ec-ba1bd40aaeea",
   "metadata": {},
   "source": [
    "# Recursive function"
   ]
  },
  {
   "cell_type": "code",
   "execution_count": 37,
   "id": "9ca228af-2c5e-464e-804f-adb544d55698",
   "metadata": {},
   "outputs": [
    {
     "name": "stdin",
     "output_type": "stream",
     "text": [
      "enter a number to find factorial :  5\n"
     ]
    },
    {
     "name": "stdout",
     "output_type": "stream",
     "text": [
      "The the factorial of 5 : 120\n"
     ]
    }
   ],
   "source": [
    "# Calculate the factorial of a certain number.\n",
    "\n",
    "def factorial(number):\n",
    "    if number == 0:\n",
    "        return 1\n",
    "    else:\n",
    "        return number*factorial(number-1)\n",
    "    \n",
    "num = int(input('enter a number to find factorial : '))\n",
    "print(f'The the factorial of {num} : {factorial(num)}')"
   ]
  },
  {
   "cell_type": "code",
   "execution_count": 40,
   "id": "7ac8bbb6-b7e1-4a3d-a084-8bbcb09cae1f",
   "metadata": {},
   "outputs": [
    {
     "name": "stdout",
     "output_type": "stream",
     "text": [
      "the total of first ten number is :  55\n"
     ]
    }
   ],
   "source": [
    "# Define a function that gives the total of the first ten numbers\n",
    "\n",
    "def total_numbers(number, x):\n",
    "    if number == 11:\n",
    "        return x\n",
    "    else:\n",
    "        return total_numbers(number+1, x+number)\n",
    "\n",
    "print('the total of first ten number is : ', total_numbers(1, 0))"
   ]
  },
  {
   "cell_type": "code",
   "execution_count": 41,
   "id": "6c4fc274-ad89-481f-9f4d-7723e5bca991",
   "metadata": {},
   "outputs": [
    {
     "name": "stdout",
     "output_type": "stream",
     "text": [
      "2000 -----> 2001\n"
     ]
    }
   ],
   "source": [
    "# Nested function\n",
    "\n",
    "def add_num(num):\n",
    "    def increment_by_one(num):\n",
    "        num += 1\n",
    "        return num\n",
    "    res = increment_by_one(num)\n",
    "    print(num, '----->', res)\n",
    "\n",
    "add_num(2000)"
   ]
  },
  {
   "cell_type": "code",
   "execution_count": 42,
   "id": "add936e9-851a-4594-90e7-ee713b4159b4",
   "metadata": {},
   "outputs": [
    {
     "name": "stdout",
     "output_type": "stream",
     "text": [
      "Current year is 2022\n"
     ]
    }
   ],
   "source": [
    "# Define a function regarding 'nonlocal' function\n",
    "def print_year():\n",
    "    year = 1990\n",
    "    def print_current_year():\n",
    "         nonlocal year\n",
    "         year += 32\n",
    "         print('Current year is', year)\n",
    "    print_current_year()\n",
    "\n",
    "print_year()\n"
   ]
  },
  {
   "cell_type": "code",
   "execution_count": 43,
   "id": "3bc8e5a6-7bae-403c-ba9e-16e50d94d214",
   "metadata": {},
   "outputs": [
    {
     "name": "stdin",
     "output_type": "stream",
     "text": [
      "Enter a name:  naim\n"
     ]
    },
    {
     "name": "stdout",
     "output_type": "stream",
     "text": [
      "Hi naim\n"
     ]
    }
   ],
   "source": [
    "# Define a function giving a message\n",
    "def function(name):\n",
    "    msg = 'Hi ' + name\n",
    "    return msg\n",
    "name = input('Enter a name: ')\n",
    "print(function(name))"
   ]
  },
  {
   "cell_type": "code",
   "execution_count": null,
   "id": "c5d6fe11-7b01-42ab-8995-bdf4d7a31da0",
   "metadata": {},
   "outputs": [],
   "source": []
  }
 ],
 "metadata": {
  "kernelspec": {
   "display_name": "Python 3 (ipykernel)",
   "language": "python",
   "name": "python3"
  },
  "language_info": {
   "codemirror_mode": {
    "name": "ipython",
    "version": 3
   },
   "file_extension": ".py",
   "mimetype": "text/x-python",
   "name": "python",
   "nbconvert_exporter": "python",
   "pygments_lexer": "ipython3",
   "version": "3.10.4"
  }
 },
 "nbformat": 4,
 "nbformat_minor": 5
}
